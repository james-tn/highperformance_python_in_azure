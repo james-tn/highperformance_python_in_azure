{
 "cells": [
  {
   "cell_type": "code",
   "execution_count": 1,
   "metadata": {
    "pycharm": {
     "is_executing": true,
     "name": "#%%\n"
    },
    "scrolled": true
   },
   "outputs": [
    {
     "name": "stderr",
     "output_type": "stream",
     "text": [
      "WARNING - Warning: Falling back to use azure cli login credentials.\n",
      "If you run your code in unattended mode, i.e., where you can't give a user input, then we recommend to use ServicePrincipalAuthentication or MsiAuthentication.\n",
      "Please refer to aka.ms/aml-notebook-auth for different authentication mechanisms in azureml-sdk.\n"
     ]
    },
    {
     "name": "stdout",
     "output_type": "stream",
     "text": [
      "Workspace name: ws01ent\n",
      "Azure region: westus2\n",
      "Subscription id: 0e9bace8-7a81-4922-83b5-d995ff706507\n",
      "Resource group: azureml\n"
     ]
    }
   ],
   "source": [
    "from azureml.core import Workspace\n",
    "\n",
    "ws = Workspace.from_config()\n",
    "print('Workspace name: ' + ws.name, \n",
    "      'Azure region: ' + ws.location, \n",
    "      'Subscription id: ' + ws.subscription_id, \n",
    "      'Resource group: ' + ws.resource_group, sep = '\\n')"
   ]
  },
  {
   "cell_type": "markdown",
   "metadata": {
    "pycharm": {
     "name": "#%%\n"
    }
   },
   "source": [
    "### Create or Attach existing compute resource for Python steps\n",
    "By using Azure Machine Learning Compute, a managed service, data scientists can train machine learning models on clusters of Azure virtual machines. Examples include VMs with GPU support. In this tutorial, you create Azure Machine Learning Compute as your training environment. The code below creates the compute clusters for you if they don't already exist in your workspace.\n",
    "\n",
    "**Creation of compute takes approximately 5 minutes. If the AmlCompute with that name is already in your workspace the code will skip the creation process.**"
   ]
  },
  {
   "cell_type": "code",
   "execution_count": 2,
   "metadata": {
    "scrolled": true
   },
   "outputs": [
    {
     "name": "stdout",
     "output_type": "stream",
     "text": [
      "found compute target. just use it. worker-cpu\n"
     ]
    }
   ],
   "source": [
    "import os\n",
    "from azureml.core.compute import AmlCompute, ComputeTarget\n",
    "from azureml.data.data_reference import DataReference\n",
    "\n",
    "# choose a name for your cluster\n",
    "compute_name = os.environ.get(\"AML_COMPUTE_CLUSTER_NAME\", \"worker-cpu\")\n",
    "compute_min_nodes = os.environ.get(\"AML_COMPUTE_CLUSTER_MIN_NODES\", 0)\n",
    "compute_max_nodes = os.environ.get(\"AML_COMPUTE_CLUSTER_MAX_NODES\", 4)\n",
    "\n",
    "# This example uses CPU VM. For using GPU VM, set SKU to STANDARD_NC6\n",
    "vm_size = os.environ.get(\"AML_COMPUTE_CLUSTER_SKU\", \"STANDARD_D12_V2\")\n",
    "\n",
    "\n",
    "if compute_name in ws.compute_targets:\n",
    "    compute_target = ws.compute_targets[compute_name]\n",
    "    if compute_target and type(compute_target) is AmlCompute:\n",
    "        print('found compute target. just use it. ' + compute_name)\n",
    "else:\n",
    "    print('creating a new compute target...')\n",
    "    provisioning_config = AmlCompute.provisioning_configuration(vm_size = vm_size,\n",
    "                                                                min_nodes = compute_min_nodes, \n",
    "                                                                max_nodes = compute_max_nodes)\n",
    "\n",
    "    # create the cluster\n",
    "    compute_target = ComputeTarget.create(ws, compute_name, provisioning_config)\n",
    "    \n",
    "    # can poll for a minimum number of nodes and for a specific timeout. \n",
    "    # if no min node count is provided it will use the scale settings for the cluster\n",
    "    compute_target.wait_for_completion(show_output=True, min_node_count=None, timeout_in_minutes=20)\n",
    "    \n",
    "     # For a more detailed view of current AmlCompute status, use get_status()\n",
    "    print(compute_target.get_status().serialize())"
   ]
  },
  {
   "cell_type": "code",
   "execution_count": 3,
   "metadata": {},
   "outputs": [],
   "source": [
    "from azureml.core import Workspace\n",
    "from azureml.core import Keyvault\n",
    "import os\n",
    "\n",
    "keyvault = ws.get_default_keyvault()\n",
    "keyvault.set_secret(name=\"adlsgen6key\", value = 'AcDil/MwM9KlDvJu0LBcBIQxogAncv306NMRYABtjphXfWgaDTV3yjZgoSNckUb/3nhG04ND2Nqn553fq36Pqw==')"
   ]
  },
  {
   "cell_type": "code",
   "execution_count": 52,
   "metadata": {},
   "outputs": [],
   "source": [
    "\n",
    "#This is to mount a BLob datastore\n",
    "from azureml.core import Datastore\n",
    "\n",
    "key =keyvault.get_secret('adlsgen6key')\n",
    "account_name = 'adlsdatalakegen6'\n",
    "datastore_sourcefiles= Datastore.register_azure_blob_container(workspace=ws, datastore_name = 'adlsgen6landing', \n",
    "                                                     container_name='landing',\n",
    "                                                     account_name= account_name, account_key=key,create_if_not_exists=False)\n",
    "\n",
    "datastore_preprocess= Datastore.register_azure_blob_container(workspace=ws, datastore_name = 'adlsgen6process', \n",
    "                                                     container_name='process',\n",
    "                                                     account_name= account_name, account_key=key,create_if_not_exists=False)\n",
    "\n",
    "\n"
   ]
  },
  {
   "cell_type": "code",
   "execution_count": 50,
   "metadata": {
    "pycharm": {
     "name": "#%%\n"
    }
   },
   "outputs": [
    {
     "ename": "NameError",
     "evalue": "name 'PipelineData' is not defined",
     "output_type": "error",
     "traceback": [
      "\u001B[1;31m---------------------------------------------------------------------------\u001B[0m",
      "\u001B[1;31mNameError\u001B[0m                                 Traceback (most recent call last)",
      "\u001B[1;32m<ipython-input-50-61344d7ddc11>\u001B[0m in \u001B[0;36m<module>\u001B[1;34m\u001B[0m\n\u001B[0;32m      1\u001B[0m \u001B[1;32mimport\u001B[0m \u001B[0mpandas\u001B[0m \u001B[1;32mas\u001B[0m \u001B[0mpd\u001B[0m\u001B[1;33m\u001B[0m\u001B[1;33m\u001B[0m\u001B[0m\n\u001B[0;32m      2\u001B[0m \u001B[1;31m# pd.read_excel()\u001B[0m\u001B[1;33m\u001B[0m\u001B[1;33m\u001B[0m\u001B[1;33m\u001B[0m\u001B[0m\n\u001B[1;32m----> 3\u001B[1;33m datastore_sourcefiles_dir = PipelineData(name=\"preprocess_output\", \n\u001B[0m\u001B[0;32m      4\u001B[0m                       datastore=datastore_sourcefiles,output_path_on_compute=\"datastore_sourcefiles\")\n",
      "\u001B[1;31mNameError\u001B[0m: name 'PipelineData' is not defined"
     ]
    }
   ],
   "source": [
    "import pandas as pd\n",
    "# pd.read_excel()\n"
   ]
  },
  {
   "cell_type": "markdown",
   "metadata": {
    "pycharm": {
     "name": "#%% md\n"
    }
   },
   "source": [
    "### Intermediate/Output Data\n",
    "Intermediate data (or output of a Step) is represented by [PipelineData](https://docs.microsoft.com/en-us/python/api/azureml-pipeline-core/azureml.pipeline.core.pipelinedata?view=azure-ml-py) object. PipelineData can be produced by one step and consumed in another step by providing the PipelineData object as an output of one step and the input of one or more steps.\n",
    "\n",
    "**Constructing PipelineData**\n",
    "- name: [Required] Name of the data item within the pipeline graph\n",
    "- datastore_name: Name of the Datastore to write this output to\n",
    "- output_name: Name of the output\n",
    "- output_mode: Specifies \"upload\" or \"mount\" modes for producing output (default: mount)\n",
    "- output_path_on_compute: For \"upload\" mode, the path to which the module writes this output during execution\n",
    "- output_overwrite: Flag to overwrite pre-existing data"
   ]
  },
  {
   "cell_type": "code",
   "execution_count": 43,
   "metadata": {},
   "outputs": [
    {
     "name": "stdout",
     "output_type": "stream",
     "text": [
      "source1 https://adlsdatalakegen6.blob.core.windows.net/landing/source1/leaderboard15.xlsx\n"
     ]
    }
   ],
   "source": [
    "from azure.servicebus import QueueClient,ServiceBusClient\n",
    "from azure.storage.queue import QueueClient, BinaryBase64DecodePolicy\n",
    "import json\n",
    "# QueueMessageFormat=BinaryBase64DecodePolicy()\n",
    "\n",
    "# con_str ='Endpoint=sb://amlservibus.servicebus.windows.net/;SharedAccessKeyName=RootManageSharedAccessKey;SharedAccessKey=wLZ9JTCNKdErXxKxjRr+aBGZ9dsIxkmf+veeCE7XeGc='\n",
    "con_str='Endpoint=sb://amlservibus.servicebus.windows.net/;SharedAccessKeyName=access;SharedAccessKey=tXe8OSx7WPLjKXzX9iNGwPN36Hcns24z2A735qHdJZ8=;EntityPath=landing'\n",
    "sb_client = ServiceBusClient.from_connection_string(con_str)\n",
    "queue_client =sb_client.get_queue(\"landing\")\n",
    "# queue_client = QueueClient.from_connection_string(con_str, \"landing\")\n",
    "# sb_client = ServiceBusClient.from_connection_string(con_str)\n",
    "\n",
    "#     message_count=0\n",
    "#     messages = client.receive_messages(messages_per_page=32)\n",
    "#     for msg_batch in messages.by_page():\n",
    "#         for message in msg_batch:\n",
    "#             content =QueueMessageFormat.decode(message.content,None).decode('utf8')\n",
    "#             json_content = ast.literal_eval(content)\n",
    "#             data_content = json_content['data']\n",
    "#             file_name =data_content['url']\n",
    "#             file_list.append(file_name)\n",
    "#             source_name =data_content['url'].split(\"/\")[-2]\n",
    "#             source_list.append(source_name)\n",
    "#             print(source_name,file_name)\n",
    "# #             client.delete_message(message)\n",
    "#             message_count+=1\n",
    "#     if message_count==0:\n",
    "#         break\n",
    "# Receive the message from the queue\n",
    "with queue_client.get_receiver() as queue_receiver:\n",
    "    messages = queue_receiver.fetch_next(timeout=3)\n",
    "    for message in messages:\n",
    "#         json_data = message.body.decode('utf-8')\n",
    "        json_content = json.loads(str(message))\n",
    "#         data_content = json_content['data']\n",
    "        file_name =json_content['data']['url']\n",
    "#         file_list.append(file_name)\n",
    "        source_name =file_name.split(\"/\")[-2]\n",
    "#         source_list.append(source_name)\n",
    "        print(source_name,file_name)\n",
    "#         print(message)\n",
    "#         message.complete()\n"
   ]
  },
  {
   "cell_type": "code",
   "execution_count": 42,
   "metadata": {},
   "outputs": [
    {
     "data": {
      "text/plain": [
       "'https://adlsdatalakegen6.blob.core.windows.net/landing/source1/leaderboard13.xlsx'"
      ]
     },
     "execution_count": 42,
     "metadata": {},
     "output_type": "execute_result"
    }
   ],
   "source": [
    "json_content['data']['url']"
   ]
  },
  {
   "cell_type": "code",
   "execution_count": 53,
   "metadata": {},
   "outputs": [],
   "source": [
    "from azureml.pipeline.core import Pipeline, PipelineData,PipelineParameter\n",
    "\n",
    "\n",
    "account_url_val = 'https://hungrywizardstorage.queue.core.windows.net'\n",
    "queue_name_val='landingzonequeue'\n",
    "sas_token_val='?sv=2019-12-12&ss=q&srt=sco&sp=rwdlacup&se=2021-07-27T02:57:46Z&st=2020-07-26T18:57:46Z&spr=https&sig=rJ%2Bi5ttwFzxeUjTsmZ%2BCCCw6R88Oh7V59suPRpC4Bvw%3D'\n",
    "\n",
    "scripts_folder = \"scripts\"\n",
    "datastore_sourcefiles_dir = PipelineData(name=\"preprocess_output\", \n",
    "                      datastore=datastore_sourcefiles,output_path_on_compute=\"datastore_sourcefiles\")\n",
    "\n",
    "grouping_output_dir = PipelineData(name=\"grouping_output\", \n",
    "                          datastore=datastore_sourcefiles, \n",
    "                          output_path_on_compute=\"grouping_output\")\n",
    "grouping_output_ds = grouping_output_dir.as_dataset().parse_delimited_files()\n",
    "\n",
    "preprocess_output_dir = PipelineData(name=\"preprocess_output\", \n",
    "                      datastore=datastore_preprocess,output_path_on_compute=\"preprocess_output\")\n",
    "preprocess_output_ds = preprocess_output_dir.as_dataset()\n",
    "\n",
    "process_output_dir = PipelineData(name=\"process_output\", \n",
    "                      datastore=datastore_process,output_path_on_compute=\"process_output\")\n",
    "\n",
    "account_url = PipelineParameter(name=\"account_url\", default_value=account_url_val)\n",
    "queue_name = PipelineParameter(name=\"queue_name\", default_value=queue_name_val)\n",
    "sas_token = PipelineParameter(name=\"sas_token\", default_value=sas_token_val)"
   ]
  },
  {
   "cell_type": "code",
   "execution_count": 56,
   "metadata": {},
   "outputs": [],
   "source": [
    "from azureml.core.runconfig import RunConfiguration\n",
    "from azureml.core.conda_dependencies import CondaDependencies\n",
    "from azureml.core.runconfig import DEFAULT_CPU_IMAGE\n",
    "\n",
    "# create a new runconfig object\n",
    "grouping_run_config = RunConfiguration()\n",
    "\n",
    "# enable Docker \n",
    "grouping_run_config.environment.docker.enabled = True\n",
    "\n",
    "# set Docker base image to the default CPU-based image\n",
    "grouping_run_config.environment.docker.base_image = DEFAULT_CPU_IMAGE\n",
    "\n",
    "# use conda_dependencies.yml to create a conda environment in the Docker image for execution\n",
    "grouping_run_config.environment.python.user_managed_dependencies = False\n",
    "\n",
    "# specify CondaDependencies obj\n",
    "grouping_run_config.environment.python.conda_dependencies = CondaDependencies.create(pip_packages=['azure-storage-queue','azureml-defaults','pandas'])\n"
   ]
  },
  {
   "cell_type": "code",
   "execution_count": null,
   "outputs": [],
   "source": [
    "\n",
    "from azureml.pipeline.steps import PythonScriptStep\n",
    "\n",
    "grouping_step = PythonScriptStep(\n",
    "   script_name=\"data_grouping_example.py\",\n",
    "   arguments=[\"--account_url\", account_url, \"--queue_name\", queue_name,\"--sas_token\", sas_token,\"--grouping_output\", grouping_output_ds],\n",
    "   outputs=[grouping_output_ds],\n",
    "   compute_target=compute_target,\n",
    "   source_directory=scripts_folder,\n",
    "   runconfig =grouping_run_config,\n",
    "    allow_reuse=False\n",
    ")\n",
    "    "
   ],
   "metadata": {
    "collapsed": false,
    "pycharm": {
     "name": "#%%\n"
    }
   }
  },
  {
   "cell_type": "code",
   "execution_count": null,
   "outputs": [],
   "source": [
    "from azureml.pipeline.core import PipelineParameter,StepSequence\n",
    "from azureml.pipeline.steps import ParallelRunStep, ParallelRunConfig\n",
    "from azureml.core import Environment\n",
    "\n",
    "preprocess_conda_deps = CondaDependencies.create(pip_packages=[\"azureml-defaults\",\"azureml-dataset-runtime[fuse,pandas]\",\"xlrd\",\"azure-storage-queue\",'azure-storage-blob'])\n",
    "preprocess_env = Environment(name=\"preprocess_environment\")\n",
    "preprocess_env.python.conda_dependencies = preprocess_conda_deps\n",
    "preprocess_env.docker.enabled = True\n",
    "preprocess_env.docker.base_image = DEFAULT_CPU_IMAGE\n",
    "\n",
    "\n",
    "\n",
    "preprocess_parallel_run_config = ParallelRunConfig(\n",
    "    source_directory=scripts_folder,\n",
    "    \n",
    "    entry_script=\"preprocessing_example.py\",\n",
    "    mini_batch_size=PipelineParameter(name=\"preprocess_batch_size_param\", default_value=\"1000\"),\n",
    "    error_threshold=1,\n",
    "    output_action=\"summary_only\",\n",
    "    append_row_file_name=\"outputs.txt\",\n",
    "    environment=preprocess_env,\n",
    "    compute_target=compute_target,\n",
    "#     process_count_per_node=PipelineParameter(name=\"process_count_param\", default_value=2),\n",
    "    node_count=2)\n",
    "\n",
    "preprocess_parallelrun_step = ParallelRunStep(\n",
    "    name=\"preprocess\",\n",
    "    arguments=[\"--account_url\", account_url, \"--queue_name\", queue_name,\"--sas_token\", sas_token,\"--preprocess_output\",preprocess_output_ds,\"--datastore_sourcefiles_dir\",datastore_sourcefiles_dir],\n",
    "\n",
    "    parallel_run_config=preprocess_parallel_run_config,\n",
    "    inputs=[grouping_output_ds],\n",
    "    output=preprocess_output_ds,\n",
    "    allow_reuse=False\n",
    ")"
   ],
   "metadata": {
    "collapsed": false,
    "pycharm": {
     "name": "#%%\n"
    }
   }
  },
  {
   "cell_type": "code",
   "execution_count": 57,
   "metadata": {},
   "outputs": [],
   "source": [
    "\n",
    "process_conda_deps = CondaDependencies.create(pip_packages=[\"azureml-defaults\",\"azureml-dataprep[fuse]\",\"xlrd\",\n",
    "                                                          \"celery==4.3.0\", \"pandas==0.24.2\", \"urllib3==1.25.3\",\n",
    "                                                          \"nameparser==1.0.4\",\"python-dateutil==2.8.0\",\n",
    "                                                         \"python-crontab==2.3.9\",\"psutil==5.6.3\",\"azure-storage-queue\",'azure-storage-blob',\n",
    "                                                         \"detect-delimiter==0.1.1\",\"xmltodict==0.12.0\",\"SQLAlchemy==1.3.6\",\"openpyxl\"])\n",
    "process_env = Environment(name=\"process_environment\")\n",
    "process_env.python.conda_dependencies = process_conda_deps\n",
    "process_env.docker.enabled = True\n",
    "process_env.docker.base_image = DEFAULT_CPU_IMAGE\n",
    "\n",
    "\n",
    "\n",
    "process_parallel_run_config = ParallelRunConfig(\n",
    "    source_directory=scripts_folder,\n",
    "    \n",
    "    entry_script=\"processing_example.py\",\n",
    "    mini_batch_size=PipelineParameter(name=\"process_batch_size_param\", default_value=\"2\"),\n",
    "    error_threshold=1,\n",
    "    output_action=\"summary_only\",\n",
    "    append_row_file_name=\"outputs.txt\",\n",
    "    environment=process_env,\n",
    "    compute_target=compute_target2,\n",
    "#     process_count_per_node=PipelineParameter(name=\"process_count_param\", default_value=2),\n",
    "    node_count=2\n",
    ")\n",
    "\n",
    "process_parallelrun_step = ParallelRunStep(\n",
    "    name=\"process\",\n",
    "    arguments=[\"--account_url\", account_url, \"--queue_name\", queue_name,\"--sas_token\", sas_token,\"--process_output\",process_output_dir],\n",
    "\n",
    "    parallel_run_config=process_parallel_run_config,\n",
    "    inputs=[preprocess_output_ds],\n",
    "    output=process_output_dir,\n",
    "    allow_reuse=False\n",
    ")"
   ]
  },
  {
   "cell_type": "code",
   "execution_count": 60,
   "metadata": {},
   "outputs": [
    {
     "ename": "ValueError",
     "evalue": "Input/Output preprocess_output appears in arguments list but is not in the input/output lists",
     "output_type": "error",
     "traceback": [
      "\u001B[1;31m---------------------------------------------------------------------------\u001B[0m",
      "\u001B[1;31mValueError\u001B[0m                                Traceback (most recent call last)",
      "\u001B[1;32m<ipython-input-60-f13495bbe97c>\u001B[0m in \u001B[0;36m<module>\u001B[1;34m\u001B[0m\n\u001B[0;32m     31\u001B[0m     \u001B[0minputs\u001B[0m\u001B[1;33m=\u001B[0m\u001B[1;33m[\u001B[0m\u001B[0mgrouping_output_ds\u001B[0m\u001B[1;33m]\u001B[0m\u001B[1;33m,\u001B[0m\u001B[1;33m\u001B[0m\u001B[1;33m\u001B[0m\u001B[0m\n\u001B[0;32m     32\u001B[0m     \u001B[0moutput\u001B[0m\u001B[1;33m=\u001B[0m\u001B[0mpreprocess_output_ds\u001B[0m\u001B[1;33m,\u001B[0m\u001B[1;33m\u001B[0m\u001B[1;33m\u001B[0m\u001B[0m\n\u001B[1;32m---> 33\u001B[1;33m     \u001B[0mallow_reuse\u001B[0m\u001B[1;33m=\u001B[0m\u001B[1;32mFalse\u001B[0m\u001B[1;33m\u001B[0m\u001B[1;33m\u001B[0m\u001B[0m\n\u001B[0m\u001B[0;32m     34\u001B[0m )\n",
      "\u001B[1;32mc:\\users\\janguy\\appdata\\local\\continuum\\miniconda3\\envs\\dlresearch\\lib\\site-packages\\azureml\\pipeline\\steps\\parallel_run_step.py\u001B[0m in \u001B[0;36m__init__\u001B[1;34m(self, name, parallel_run_config, inputs, output, side_inputs, arguments, allow_reuse)\u001B[0m\n\u001B[0;32m    128\u001B[0m             \u001B[0mside_inputs\u001B[0m\u001B[1;33m=\u001B[0m\u001B[0mside_inputs\u001B[0m\u001B[1;33m,\u001B[0m\u001B[1;33m\u001B[0m\u001B[1;33m\u001B[0m\u001B[0m\n\u001B[0;32m    129\u001B[0m             \u001B[0marguments\u001B[0m\u001B[1;33m=\u001B[0m\u001B[0marguments\u001B[0m\u001B[1;33m,\u001B[0m\u001B[1;33m\u001B[0m\u001B[1;33m\u001B[0m\u001B[0m\n\u001B[1;32m--> 130\u001B[1;33m             \u001B[0mallow_reuse\u001B[0m\u001B[1;33m=\u001B[0m\u001B[0mallow_reuse\u001B[0m\u001B[1;33m,\u001B[0m\u001B[1;33m\u001B[0m\u001B[1;33m\u001B[0m\u001B[0m\n\u001B[0m\u001B[0;32m    131\u001B[0m         )\n\u001B[0;32m    132\u001B[0m \u001B[1;33m\u001B[0m\u001B[0m\n",
      "\u001B[1;32mc:\\users\\janguy\\appdata\\local\\continuum\\miniconda3\\envs\\dlresearch\\lib\\site-packages\\azureml\\pipeline\\core\\_parallel_run_step_base.py\u001B[0m in \u001B[0;36m__init__\u001B[1;34m(self, name, parallel_run_config, inputs, output, side_inputs, arguments, allow_reuse)\u001B[0m\n\u001B[0;32m    240\u001B[0m             \u001B[0minputs\u001B[0m\u001B[1;33m=\u001B[0m\u001B[0mself\u001B[0m\u001B[1;33m.\u001B[0m\u001B[0m_pystep_inputs\u001B[0m\u001B[1;33m,\u001B[0m\u001B[1;33m\u001B[0m\u001B[1;33m\u001B[0m\u001B[0m\n\u001B[0;32m    241\u001B[0m             \u001B[0moutputs\u001B[0m\u001B[1;33m=\u001B[0m\u001B[0mself\u001B[0m\u001B[1;33m.\u001B[0m\u001B[0m_output\u001B[0m\u001B[1;33m,\u001B[0m\u001B[1;33m\u001B[0m\u001B[1;33m\u001B[0m\u001B[0m\n\u001B[1;32m--> 242\u001B[1;33m             \u001B[0mallow_reuse\u001B[0m\u001B[1;33m=\u001B[0m\u001B[0mallow_reuse\u001B[0m\u001B[1;33m,\u001B[0m\u001B[1;33m\u001B[0m\u001B[1;33m\u001B[0m\u001B[0m\n\u001B[0m\u001B[0;32m    243\u001B[0m         )\n\u001B[0;32m    244\u001B[0m \u001B[1;33m\u001B[0m\u001B[0m\n",
      "\u001B[1;32mc:\\users\\janguy\\appdata\\local\\continuum\\miniconda3\\envs\\dlresearch\\lib\\site-packages\\azureml\\pipeline\\core\\_python_script_step_base.py\u001B[0m in \u001B[0;36m__init__\u001B[1;34m(self, script_name, name, arguments, compute_target, runconfig, runconfig_pipeline_params, inputs, outputs, params, source_directory, allow_reuse, version, hash_paths)\u001B[0m\n\u001B[0;32m     64\u001B[0m         \u001B[0mself\u001B[0m\u001B[1;33m.\u001B[0m\u001B[0m_amlcompute_params\u001B[0m \u001B[1;33m=\u001B[0m \u001B[1;33m{\u001B[0m\u001B[1;33m}\u001B[0m\u001B[1;33m\u001B[0m\u001B[1;33m\u001B[0m\u001B[0m\n\u001B[0;32m     65\u001B[0m \u001B[1;33m\u001B[0m\u001B[0m\n\u001B[1;32m---> 66\u001B[1;33m         \u001B[0msuper\u001B[0m\u001B[1;33m(\u001B[0m\u001B[0m_PythonScriptStepBase\u001B[0m\u001B[1;33m,\u001B[0m \u001B[0mself\u001B[0m\u001B[1;33m)\u001B[0m\u001B[1;33m.\u001B[0m\u001B[0m__init__\u001B[0m\u001B[1;33m(\u001B[0m\u001B[0mname\u001B[0m\u001B[1;33m,\u001B[0m \u001B[0minputs\u001B[0m\u001B[1;33m,\u001B[0m \u001B[0moutputs\u001B[0m\u001B[1;33m,\u001B[0m \u001B[0marguments\u001B[0m\u001B[1;33m,\u001B[0m \u001B[0mfix_port_name_collisions\u001B[0m\u001B[1;33m=\u001B[0m\u001B[1;32mTrue\u001B[0m\u001B[1;33m)\u001B[0m\u001B[1;33m\u001B[0m\u001B[1;33m\u001B[0m\u001B[0m\n\u001B[0m\u001B[0;32m     67\u001B[0m \u001B[1;33m\u001B[0m\u001B[0m\n\u001B[0;32m     68\u001B[0m     \u001B[1;32mdef\u001B[0m \u001B[0mcreate_node\u001B[0m\u001B[1;33m(\u001B[0m\u001B[0mself\u001B[0m\u001B[1;33m,\u001B[0m \u001B[0mgraph\u001B[0m\u001B[1;33m,\u001B[0m \u001B[0mdefault_datastore\u001B[0m\u001B[1;33m,\u001B[0m \u001B[0mcontext\u001B[0m\u001B[1;33m)\u001B[0m\u001B[1;33m:\u001B[0m\u001B[1;33m\u001B[0m\u001B[1;33m\u001B[0m\u001B[0m\n",
      "\u001B[1;32mc:\\users\\janguy\\appdata\\local\\continuum\\miniconda3\\envs\\dlresearch\\lib\\site-packages\\azureml\\pipeline\\core\\builder.py\u001B[0m in \u001B[0;36m__init__\u001B[1;34m(self, name, inputs, outputs, arguments, fix_port_name_collisions, resource_inputs)\u001B[0m\n\u001B[0;32m    163\u001B[0m \u001B[1;33m\u001B[0m\u001B[0m\n\u001B[0;32m    164\u001B[0m         \u001B[0mself\u001B[0m\u001B[1;33m.\u001B[0m\u001B[0m_update_input_with_pipeline_parameters\u001B[0m\u001B[1;33m(\u001B[0m\u001B[1;33m)\u001B[0m\u001B[1;33m\u001B[0m\u001B[1;33m\u001B[0m\u001B[0m\n\u001B[1;32m--> 165\u001B[1;33m         \u001B[0mPipelineStep\u001B[0m\u001B[1;33m.\u001B[0m\u001B[0mvalidate_arguments\u001B[0m\u001B[1;33m(\u001B[0m\u001B[0mself\u001B[0m\u001B[1;33m.\u001B[0m\u001B[0m_arguments\u001B[0m\u001B[1;33m,\u001B[0m \u001B[0mself\u001B[0m\u001B[1;33m.\u001B[0m\u001B[0m_inputs\u001B[0m\u001B[1;33m,\u001B[0m \u001B[0mself\u001B[0m\u001B[1;33m.\u001B[0m\u001B[0m_outputs\u001B[0m\u001B[1;33m)\u001B[0m\u001B[1;33m\u001B[0m\u001B[1;33m\u001B[0m\u001B[0m\n\u001B[0m\u001B[0;32m    166\u001B[0m \u001B[1;33m\u001B[0m\u001B[0m\n\u001B[0;32m    167\u001B[0m     \u001B[1;33m@\u001B[0m\u001B[0mstaticmethod\u001B[0m\u001B[1;33m\u001B[0m\u001B[1;33m\u001B[0m\u001B[0m\n",
      "\u001B[1;32mc:\\users\\janguy\\appdata\\local\\continuum\\miniconda3\\envs\\dlresearch\\lib\\site-packages\\azureml\\pipeline\\core\\builder.py\u001B[0m in \u001B[0;36mvalidate_arguments\u001B[1;34m(arguments, inputs, outputs)\u001B[0m\n\u001B[0;32m    679\u001B[0m                         raise ValueError(\n\u001B[0;32m    680\u001B[0m                             \"Input/Output %s appears in arguments list but is not in the input/output lists\" % (\n\u001B[1;32m--> 681\u001B[1;33m                                 argument.name))\n\u001B[0m\u001B[0;32m    682\u001B[0m                 \u001B[1;32melif\u001B[0m \u001B[0misinstance\u001B[0m\u001B[1;33m(\u001B[0m\u001B[0margument\u001B[0m\u001B[1;33m,\u001B[0m \u001B[0m_PipelineIO\u001B[0m\u001B[1;33m)\u001B[0m\u001B[1;33m:\u001B[0m\u001B[1;33m\u001B[0m\u001B[1;33m\u001B[0m\u001B[0m\n\u001B[0;32m    683\u001B[0m                     \u001B[1;32mif\u001B[0m \u001B[0margument\u001B[0m \u001B[1;32mnot\u001B[0m \u001B[1;32min\u001B[0m \u001B[0minputs\u001B[0m\u001B[1;33m:\u001B[0m\u001B[1;33m\u001B[0m\u001B[1;33m\u001B[0m\u001B[0m\n",
      "\u001B[1;31mValueError\u001B[0m: Input/Output preprocess_output appears in arguments list but is not in the input/output lists"
     ]
    }
   ],
   "source": [
    "from azureml.pipeline.core import PipelineParameter,StepSequence\n",
    "from azureml.pipeline.steps import ParallelRunStep, ParallelRunConfig\n",
    "from azureml.core import Environment\n",
    "\n",
    "preprocess_conda_deps = CondaDependencies.create(pip_packages=[\"azureml-defaults\",\"azureml-dataset-runtime[fuse,pandas]\",\"xlrd\",\"azure-storage-queue\",'azure-storage-blob'])\n",
    "preprocess_env = Environment(name=\"preprocess_environment\")\n",
    "preprocess_env.python.conda_dependencies = preprocess_conda_deps\n",
    "preprocess_env.docker.enabled = True\n",
    "preprocess_env.docker.base_image = DEFAULT_CPU_IMAGE\n",
    "\n",
    "\n",
    "\n",
    "preprocess_parallel_run_config = ParallelRunConfig(\n",
    "    source_directory=scripts_folder,\n",
    "    \n",
    "    entry_script=\"preprocessing_example.py\",\n",
    "    mini_batch_size=PipelineParameter(name=\"preprocess_batch_size_param\", default_value=\"1000\"),\n",
    "    error_threshold=1,\n",
    "    output_action=\"summary_only\",\n",
    "    append_row_file_name=\"outputs.txt\",\n",
    "    environment=preprocess_env,\n",
    "    compute_target=compute_target,\n",
    "#     process_count_per_node=PipelineParameter(name=\"process_count_param\", default_value=2),\n",
    "    node_count=2)\n",
    "\n",
    "preprocess_parallelrun_step = ParallelRunStep(\n",
    "    name=\"preprocess\",\n",
    "    arguments=[\"--account_url\", account_url, \"--queue_name\", queue_name,\"--sas_token\", sas_token,\"--preprocess_output\",preprocess_output_ds,\"--datastore_sourcefiles_dir\",datastore_sourcefiles_dir],\n",
    "\n",
    "    parallel_run_config=preprocess_parallel_run_config,\n",
    "    inputs=[grouping_output_ds],\n",
    "    output=preprocess_output_ds,\n",
    "    allow_reuse=False\n",
    ")"
   ]
  },
  {
   "cell_type": "code",
   "execution_count": null,
   "metadata": {
    "scrolled": true
   },
   "outputs": [],
   "source": [
    "\n",
    "process_conda_deps = CondaDependencies.create(pip_packages=[\"azureml-defaults\",\"azureml-dataprep[fuse]\",\"xlrd\",\n",
    "                                                          \"celery==4.3.0\", \"pandas==0.24.2\", \"urllib3==1.25.3\",\n",
    "                                                          \"nameparser==1.0.4\",\"python-dateutil==2.8.0\",\n",
    "                                                         \"python-crontab==2.3.9\",\"psutil==5.6.3\",\"azure-storage-queue\",'azure-storage-blob',\n",
    "                                                         \"detect-delimiter==0.1.1\",\"xmltodict==0.12.0\",\"SQLAlchemy==1.3.6\",\"openpyxl\"])\n",
    "process_env = Environment(name=\"process_environment\")\n",
    "process_env.python.conda_dependencies = process_conda_deps\n",
    "process_env.docker.enabled = True\n",
    "process_env.docker.base_image = DEFAULT_CPU_IMAGE\n",
    "\n",
    "\n",
    "\n",
    "process_parallel_run_config = ParallelRunConfig(\n",
    "    source_directory=scripts_folder,\n",
    "    \n",
    "    entry_script=\"processing_example.py\",\n",
    "    mini_batch_size=PipelineParameter(name=\"process_batch_size_param\", default_value=\"2\"),\n",
    "    error_threshold=1,\n",
    "    output_action=\"summary_only\",\n",
    "    append_row_file_name=\"outputs.txt\",\n",
    "    environment=process_env,\n",
    "    compute_target=compute_target2,\n",
    "#     process_count_per_node=PipelineParameter(name=\"process_count_param\", default_value=2),\n",
    "    node_count=2\n",
    ")\n",
    "\n",
    "process_parallelrun_step = ParallelRunStep(\n",
    "    name=\"process\",\n",
    "    arguments=[\"--account_url\", account_url, \"--queue_name\", queue_name,\"--sas_token\", sas_token,\"--process_output\",process_output_dir],\n",
    "\n",
    "    parallel_run_config=process_parallel_run_config,\n",
    "    inputs=[preprocess_output_ds],\n",
    "    output=process_output_dir,\n",
    "    allow_reuse=False\n",
    ")"
   ]
  },
  {
   "cell_type": "code",
   "execution_count": null,
   "metadata": {},
   "outputs": [],
   "source": [
    "\n",
    "\n",
    "notebook_path=\"/patient_matching/samples/data_loading\"\n",
    "databricks_loading_step = DatabricksStep(\n",
    "    name=\"Databricks_loading\",\n",
    "    instance_pool_id='0802-004752-cones91-pool-SEQ0qDvt',\n",
    "    spark_version = '7.0.x-scala2.12',\n",
    "#     existing_cluster_id='0616-180808-font886',\n",
    "    num_workers=2,\n",
    "    notebook_path=notebook_path,\n",
    "    inputs=[process_output_dir],\n",
    "    run_name='data_loading',\n",
    "    compute_target=databricks_compute,\n",
    "    allow_reuse=False\n",
    ")\n",
    "\n",
    "\n",
    "\n"
   ]
  },
  {
   "cell_type": "code",
   "execution_count": null,
   "metadata": {
    "scrolled": false
   },
   "outputs": [],
   "source": [
    "from azureml.core import Experiment\n",
    "# step_sequence = StepSequence(steps=[grouping_step, preprocess_parallelrun_step, process_parallelrun_step])\n",
    "\n",
    "pipeline = Pipeline(workspace=ws, steps=[grouping_step, preprocess_parallelrun_step, process_parallelrun_step, databricks_loading_step])\n",
    "experiment = Experiment(ws, 'hungrywizard_eligibility')\n",
    "pipeline_run = experiment.submit(pipeline)"
   ]
  },
  {
   "cell_type": "code",
   "execution_count": 55,
   "metadata": {},
   "outputs": [
    {
     "data": {
      "text/html": [
       "<table style=\"width:100%\"><tr><th>Name</th><th>Id</th><th>Status</th><th>Endpoint</th></tr><tr><td>hunrgy_wizard_demo</td><td><a href=\"https://ml.azure.com/pipelines/e0e1272a-74e7-40c0-a6a0-f8e454b16a00?wsid=/subscriptions/accde124-a45f-47be-aefa-b09362b2c5fc/resourcegroups/rg-HungryWizard/workspaces/hungrywizard_ml\" target=\"_blank\" rel=\"noopener\">e0e1272a-74e7-40c0-a6a0-f8e454b16a00</a></td><td>Active</td><td><a href=\"https://westus2.api.azureml.ms/pipelines/v1.0/subscriptions/accde124-a45f-47be-aefa-b09362b2c5fc/resourceGroups/rg-HungryWizard/providers/Microsoft.MachineLearningServices/workspaces/hungrywizard_ml/PipelineRuns/PipelineSubmit/e0e1272a-74e7-40c0-a6a0-f8e454b16a00\" target=\"_blank\" rel=\"noopener\">REST Endpoint</a></td></tr></table>"
      ],
      "text/plain": [
       "Pipeline(Name: hunrgy_wizard_demo,\n",
       "Id: e0e1272a-74e7-40c0-a6a0-f8e454b16a00,\n",
       "Status: Active,\n",
       "Endpoint: https://westus2.api.azureml.ms/pipelines/v1.0/subscriptions/accde124-a45f-47be-aefa-b09362b2c5fc/resourceGroups/rg-HungryWizard/providers/Microsoft.MachineLearningServices/workspaces/hungrywizard_ml/PipelineRuns/PipelineSubmit/e0e1272a-74e7-40c0-a6a0-f8e454b16a00)"
      ]
     },
     "execution_count": 55,
     "metadata": {},
     "output_type": "execute_result"
    }
   ],
   "source": [
    "pipeline_run.publish_pipeline(name =\"hunrgy_wizard_demo\", description =\"Demo of multi steps hungry wizard pipeline\", version=1.0)"
   ]
  },
  {
   "cell_type": "code",
   "execution_count": null,
   "metadata": {},
   "outputs": [],
   "source": [
    "from azureml.widgets import RunDetails\n",
    "RunDetails(pipeline_run).show()\n"
   ]
  },
  {
   "cell_type": "markdown",
   "metadata": {},
   "source": [
    "### Optional: View detailed logs (streaming) "
   ]
  },
  {
   "cell_type": "code",
   "execution_count": 21,
   "metadata": {},
   "outputs": [
    {
     "name": "stdout",
     "output_type": "stream",
     "text": [
      "PipelineRunId: 270ce7d9-61a6-4bff-a87f-9e3aa78636a0\n",
      "Link to Azure Machine Learning Portal: https://ml.azure.com/experiments/hungrywizard_eligibility/runs/270ce7d9-61a6-4bff-a87f-9e3aa78636a0?wsid=/subscriptions/accde124-a45f-47be-aefa-b09362b2c5fc/resourcegroups/rg-HungryWizard/workspaces/hungrywizardml\n",
      "PipelineRun Status: Running\n",
      "\n",
      "\n",
      "StepRunId: 2d3ab6f9-739f-4381-a390-609e2b265dbd\n",
      "Link to Azure Machine Learning Portal: https://ml.azure.com/experiments/hungrywizard_eligibility/runs/2d3ab6f9-739f-4381-a390-609e2b265dbd?wsid=/subscriptions/accde124-a45f-47be-aefa-b09362b2c5fc/resourcegroups/rg-HungryWizard/workspaces/hungrywizardml\n",
      "StepRun( eligibility ) Status: Running\n",
      "\n",
      "Streaming azureml-logs/70_driver_log.txt\n",
      "========================================\n",
      "Entering context manager injector. Current time:2020-07-02T19:51:18.470434\n",
      "Initialize DatasetContextManager.\n",
      "Starting the daemon thread to refresh tokens in background for process with pid = 148\n",
      "Set Dataset eligibility_param_config's target path to /mnt/batch/tasks/shared/LS_root/jobs/hungrywizardml/azureml/2d3ab6f9-739f-4381-a390-609e2b265dbd/mounts/workspaceblobstore/azureml/2d3ab6f9-739f-4381-a390-609e2b265dbd/d9876eb3-57f6-4812-ab05-644f27c575f9\n",
      "Enter __enter__ of DatasetContextManager\n",
      "SDK version: azureml-core==1.8.0.post1 azureml-dataprep==1.9.0\n",
      "Processing 'eligibility_param_config'\n",
      "Processing dataset FileDataset\n",
      "{\n",
      "  \"source\": [\n",
      "    \"('hungrywizard_store', 'GHCCareUnity_GHC001/Eligibility_S67003/Archive')\"\n",
      "  ],\n",
      "  \"definition\": [\n",
      "    \"GetDatastoreFiles\"\n",
      "  ],\n",
      "  \"registration\": {\n",
      "    \"id\": \"ad779620-1a63-4cf0-83bd-35f59ac7f1b3\",\n",
      "    \"name\": null,\n",
      "    \"version\": null,\n",
      "    \"workspace\": \"Workspace.create(name='hungrywizardml', subscription_id='accde124-a45f-47be-aefa-b09362b2c5fc', resource_group='rg-HungryWizard')\"\n",
      "  }\n",
      "}\n",
      "Mounting eligibility_param_config to /mnt/batch/tasks/shared/LS_root/jobs/hungrywizardml/azureml/2d3ab6f9-739f-4381-a390-609e2b265dbd/mounts/workspaceblobstore/azureml/2d3ab6f9-739f-4381-a390-609e2b265dbd/d9876eb3-57f6-4812-ab05-644f27c575f9\n",
      "Mounted eligibility_param_config to /mnt/batch/tasks/shared/LS_root/jobs/hungrywizardml/azureml/2d3ab6f9-739f-4381-a390-609e2b265dbd/mounts/workspaceblobstore/azureml/2d3ab6f9-739f-4381-a390-609e2b265dbd/d9876eb3-57f6-4812-ab05-644f27c575f9\n",
      "Exit __enter__ of DatasetContextManager\n",
      "Entering Run History Context Manager.\n",
      "Preparing to call script [ driver/amlbi_main.py ] with arguments: ['--client_sdk_version', '1.8.0', '--scoring_module_name', 'aml_batch.py', '--mini_batch_size', '5', '--error_threshold', '10', '--output_action', 'append_row', '--logging_level', 'INFO', '--run_invocation_timeout', '60', '--run_max_try', '3', '--create_snapshot_at_runtime', 'True', '--append_row_file_name', 'outputs.txt', '--output', '/mnt/batch/tasks/shared/LS_root/jobs/hungrywizardml/azureml/2d3ab6f9-739f-4381-a390-609e2b265dbd/mounts/hungrywizard_store/azureml/2d3ab6f9-739f-4381-a390-609e2b265dbd/output', '--process_count_per_node', '2', '--input_fds_0', 'eligibility_param_config', '--input_pipeline_param_0', '$eligibility_param_config']\n",
      "After variable expansion, calling script [ driver/amlbi_main.py ] with arguments: ['--client_sdk_version', '1.8.0', '--scoring_module_name', 'aml_batch.py', '--mini_batch_size', '5', '--error_threshold', '10', '--output_action', 'append_row', '--logging_level', 'INFO', '--run_invocation_timeout', '60', '--run_max_try', '3', '--create_snapshot_at_runtime', 'True', '--append_row_file_name', 'outputs.txt', '--output', '/mnt/batch/tasks/shared/LS_root/jobs/hungrywizardml/azureml/2d3ab6f9-739f-4381-a390-609e2b265dbd/mounts/hungrywizard_store/azureml/2d3ab6f9-739f-4381-a390-609e2b265dbd/output', '--process_count_per_node', '2', '--input_fds_0', 'eligibility_param_config', '--input_pipeline_param_0', '/mnt/batch/tasks/shared/LS_root/jobs/hungrywizardml/azureml/2d3ab6f9-739f-4381-a390-609e2b265dbd/mounts/workspaceblobstore/azureml/2d3ab6f9-739f-4381-a390-609e2b265dbd/d9876eb3-57f6-4812-ab05-644f27c575f9']\n",
      "\n"
     ]
    },
    {
     "ename": "ExperimentExecutionException",
     "evalue": "ExperimentExecutionException:\n\tMessage: The output streaming for the run interrupted.\nBut the run is still executing on the compute target. \nDetails for canceling the run can be found here: https://aka.ms/aml-docs-cancel-run\n\tInnerException None\n\tErrorResponse \n{\n    \"error\": {\n        \"message\": \"The output streaming for the run interrupted.\\nBut the run is still executing on the compute target. \\nDetails for canceling the run can be found here: https://aka.ms/aml-docs-cancel-run\"\n    }\n}",
     "output_type": "error",
     "traceback": [
      "\u001B[1;31m---------------------------------------------------------------------------\u001B[0m",
      "\u001B[1;31mKeyboardInterrupt\u001B[0m                         Traceback (most recent call last)",
      "\u001B[1;32m~\\AppData\\Roaming\\Python\\Python36\\site-packages\\azureml\\pipeline\\core\\run.py\u001B[0m in \u001B[0;36mwait_for_completion\u001B[1;34m(self, show_output, timeout_seconds, raise_on_error)\u001B[0m\n\u001B[0;32m    736\u001B[0m                 return self._stream_run_output(timeout_seconds=timeout_seconds,\n\u001B[1;32m--> 737\u001B[1;33m                                                raise_on_error=raise_on_error)\n\u001B[0m\u001B[0;32m    738\u001B[0m             \u001B[1;32mexcept\u001B[0m \u001B[0mKeyboardInterrupt\u001B[0m\u001B[1;33m:\u001B[0m\u001B[1;33m\u001B[0m\u001B[1;33m\u001B[0m\u001B[0m\n",
      "\u001B[1;32m~\\AppData\\Roaming\\Python\\Python36\\site-packages\\azureml\\pipeline\\core\\run.py\u001B[0m in \u001B[0;36m_stream_run_output\u001B[1;34m(self, timeout_seconds, raise_on_error)\u001B[0m\n\u001B[0;32m    781\u001B[0m \u001B[1;33m\u001B[0m\u001B[0m\n\u001B[1;32m--> 782\u001B[1;33m             \u001B[0mcurrent_details\u001B[0m \u001B[1;33m=\u001B[0m \u001B[0mself\u001B[0m\u001B[1;33m.\u001B[0m\u001B[0mget_details\u001B[0m\u001B[1;33m(\u001B[0m\u001B[1;33m)\u001B[0m\u001B[1;33m\u001B[0m\u001B[1;33m\u001B[0m\u001B[0m\n\u001B[0m\u001B[0;32m    783\u001B[0m             available_logs = [x for x in current_details[\"logFiles\"]\n",
      "\u001B[1;32m~\\AppData\\Roaming\\Python\\Python36\\site-packages\\azureml\\core\\run.py\u001B[0m in \u001B[0;36mget_details\u001B[1;34m(self)\u001B[0m\n\u001B[0;32m   1061\u001B[0m         \"\"\"\n\u001B[1;32m-> 1062\u001B[1;33m         \u001B[0mdetails\u001B[0m \u001B[1;33m=\u001B[0m \u001B[0mself\u001B[0m\u001B[1;33m.\u001B[0m\u001B[0m_client\u001B[0m\u001B[1;33m.\u001B[0m\u001B[0mget_runstatus\u001B[0m\u001B[1;33m(\u001B[0m\u001B[1;33m)\u001B[0m\u001B[1;33m.\u001B[0m\u001B[0mas_dict\u001B[0m\u001B[1;33m(\u001B[0m\u001B[0mkey_transformer\u001B[0m\u001B[1;33m=\u001B[0m\u001B[0mcamel_case_transformer\u001B[0m\u001B[1;33m)\u001B[0m\u001B[1;33m\u001B[0m\u001B[1;33m\u001B[0m\u001B[0m\n\u001B[0m\u001B[0;32m   1063\u001B[0m         \u001B[0minput_datasets\u001B[0m \u001B[1;33m=\u001B[0m \u001B[0mdetails\u001B[0m\u001B[1;33m.\u001B[0m\u001B[0mget\u001B[0m\u001B[1;33m(\u001B[0m\u001B[1;34m'inputDatasets'\u001B[0m\u001B[1;33m)\u001B[0m\u001B[1;33m\u001B[0m\u001B[1;33m\u001B[0m\u001B[0m\n",
      "\u001B[1;32m~\\AppData\\Roaming\\Python\\Python36\\site-packages\\azureml\\_run_impl\\run_history_facade.py\u001B[0m in \u001B[0;36mget_runstatus\u001B[1;34m(self)\u001B[0m\n\u001B[0;32m    159\u001B[0m     \u001B[1;32mdef\u001B[0m \u001B[0mget_runstatus\u001B[0m\u001B[1;33m(\u001B[0m\u001B[0mself\u001B[0m\u001B[1;33m)\u001B[0m\u001B[1;33m:\u001B[0m\u001B[1;33m\u001B[0m\u001B[1;33m\u001B[0m\u001B[0m\n\u001B[1;32m--> 160\u001B[1;33m         \u001B[0mrun_status\u001B[0m \u001B[1;33m=\u001B[0m \u001B[0mself\u001B[0m\u001B[1;33m.\u001B[0m\u001B[0mrun\u001B[0m\u001B[1;33m.\u001B[0m\u001B[0mget_runstatus\u001B[0m\u001B[1;33m(\u001B[0m\u001B[1;33m)\u001B[0m\u001B[1;33m\u001B[0m\u001B[1;33m\u001B[0m\u001B[0m\n\u001B[0m\u001B[0;32m    161\u001B[0m         \u001B[0mself\u001B[0m\u001B[1;33m.\u001B[0m\u001B[0mupdate_cached_status\u001B[0m\u001B[1;33m(\u001B[0m\u001B[0mrun_status\u001B[0m\u001B[1;33m.\u001B[0m\u001B[0mstatus\u001B[0m\u001B[1;33m)\u001B[0m\u001B[1;33m\u001B[0m\u001B[1;33m\u001B[0m\u001B[0m\n",
      "\u001B[1;32m~\\AppData\\Roaming\\Python\\Python36\\site-packages\\azureml\\_restclient\\run_client.py\u001B[0m in \u001B[0;36mget_runstatus\u001B[1;34m(self, caller, custom_headers, is_async)\u001B[0m\n\u001B[0;32m    102\u001B[0m \u001B[1;33m\u001B[0m\u001B[0m\n\u001B[1;32m--> 103\u001B[1;33m         \u001B[1;32mreturn\u001B[0m \u001B[0mself\u001B[0m\u001B[1;33m.\u001B[0m\u001B[0m_execute_with_run_arguments\u001B[0m\u001B[1;33m(\u001B[0m\u001B[0mself\u001B[0m\u001B[1;33m.\u001B[0m\u001B[0m_client\u001B[0m\u001B[1;33m.\u001B[0m\u001B[0mrun\u001B[0m\u001B[1;33m.\u001B[0m\u001B[0mget_details\u001B[0m\u001B[1;33m,\u001B[0m \u001B[1;33m**\u001B[0m\u001B[0mkwargs\u001B[0m\u001B[1;33m)\u001B[0m\u001B[1;33m\u001B[0m\u001B[1;33m\u001B[0m\u001B[0m\n\u001B[0m\u001B[0;32m    104\u001B[0m \u001B[1;33m\u001B[0m\u001B[0m\n",
      "\u001B[1;32m~\\AppData\\Roaming\\Python\\Python36\\site-packages\\azureml\\_restclient\\run_client.py\u001B[0m in \u001B[0;36m_execute_with_run_arguments\u001B[1;34m(self, func, *args, **kwargs)\u001B[0m\n\u001B[0;32m    541\u001B[0m     \u001B[1;32mdef\u001B[0m \u001B[0m_execute_with_run_arguments\u001B[0m\u001B[1;33m(\u001B[0m\u001B[0mself\u001B[0m\u001B[1;33m,\u001B[0m \u001B[0mfunc\u001B[0m\u001B[1;33m,\u001B[0m \u001B[1;33m*\u001B[0m\u001B[0margs\u001B[0m\u001B[1;33m,\u001B[0m \u001B[1;33m**\u001B[0m\u001B[0mkwargs\u001B[0m\u001B[1;33m)\u001B[0m\u001B[1;33m:\u001B[0m\u001B[1;33m\u001B[0m\u001B[1;33m\u001B[0m\u001B[0m\n\u001B[1;32m--> 542\u001B[1;33m         \u001B[1;32mreturn\u001B[0m \u001B[0mself\u001B[0m\u001B[1;33m.\u001B[0m\u001B[0m_execute_with_arguments\u001B[0m\u001B[1;33m(\u001B[0m\u001B[0mfunc\u001B[0m\u001B[1;33m,\u001B[0m \u001B[0mcopy\u001B[0m\u001B[1;33m.\u001B[0m\u001B[0mdeepcopy\u001B[0m\u001B[1;33m(\u001B[0m\u001B[0mself\u001B[0m\u001B[1;33m.\u001B[0m\u001B[0m_run_arguments\u001B[0m\u001B[1;33m)\u001B[0m\u001B[1;33m,\u001B[0m \u001B[1;33m*\u001B[0m\u001B[0margs\u001B[0m\u001B[1;33m,\u001B[0m \u001B[1;33m**\u001B[0m\u001B[0mkwargs\u001B[0m\u001B[1;33m)\u001B[0m\u001B[1;33m\u001B[0m\u001B[1;33m\u001B[0m\u001B[0m\n\u001B[0m\u001B[0;32m    543\u001B[0m \u001B[1;33m\u001B[0m\u001B[0m\n",
      "\u001B[1;32m~\\AppData\\Roaming\\Python\\Python36\\site-packages\\azureml\\_restclient\\workspace_client.py\u001B[0m in \u001B[0;36m_execute_with_arguments\u001B[1;34m(self, func, args_list, *args, **kwargs)\u001B[0m\n\u001B[0;32m     85\u001B[0m             \u001B[1;32melse\u001B[0m\u001B[1;33m:\u001B[0m\u001B[1;33m\u001B[0m\u001B[1;33m\u001B[0m\u001B[0m\n\u001B[1;32m---> 86\u001B[1;33m                 \u001B[1;32mreturn\u001B[0m \u001B[0mself\u001B[0m\u001B[1;33m.\u001B[0m\u001B[0m_call_api\u001B[0m\u001B[1;33m(\u001B[0m\u001B[0mfunc\u001B[0m\u001B[1;33m,\u001B[0m \u001B[1;33m*\u001B[0m\u001B[0margs_list\u001B[0m\u001B[1;33m,\u001B[0m \u001B[1;33m**\u001B[0m\u001B[0mkwargs\u001B[0m\u001B[1;33m)\u001B[0m\u001B[1;33m\u001B[0m\u001B[1;33m\u001B[0m\u001B[0m\n\u001B[0m\u001B[0;32m     87\u001B[0m         \u001B[1;32mexcept\u001B[0m \u001B[0mErrorResponseException\u001B[0m \u001B[1;32mas\u001B[0m \u001B[0me\u001B[0m\u001B[1;33m:\u001B[0m\u001B[1;33m\u001B[0m\u001B[1;33m\u001B[0m\u001B[0m\n",
      "\u001B[1;32m~\\AppData\\Roaming\\Python\\Python36\\site-packages\\azureml\\_restclient\\clientbase.py\u001B[0m in \u001B[0;36m_call_api\u001B[1;34m(self, func, *args, **kwargs)\u001B[0m\n\u001B[0;32m    231\u001B[0m             \u001B[1;32melse\u001B[0m\u001B[1;33m:\u001B[0m\u001B[1;33m\u001B[0m\u001B[1;33m\u001B[0m\u001B[0m\n\u001B[1;32m--> 232\u001B[1;33m                 \u001B[1;32mreturn\u001B[0m \u001B[0mself\u001B[0m\u001B[1;33m.\u001B[0m\u001B[0m_execute_with_base_arguments\u001B[0m\u001B[1;33m(\u001B[0m\u001B[0mfunc\u001B[0m\u001B[1;33m,\u001B[0m \u001B[1;33m*\u001B[0m\u001B[0margs\u001B[0m\u001B[1;33m,\u001B[0m \u001B[1;33m**\u001B[0m\u001B[0mkwargs\u001B[0m\u001B[1;33m)\u001B[0m\u001B[1;33m\u001B[0m\u001B[1;33m\u001B[0m\u001B[0m\n\u001B[0m\u001B[0;32m    233\u001B[0m \u001B[1;33m\u001B[0m\u001B[0m\n",
      "\u001B[1;32m~\\AppData\\Roaming\\Python\\Python36\\site-packages\\azureml\\_restclient\\clientbase.py\u001B[0m in \u001B[0;36m_execute_with_base_arguments\u001B[1;34m(self, func, *args, **kwargs)\u001B[0m\n\u001B[0;32m    320\u001B[0m         return ClientBase._execute_func_internal(\n\u001B[1;32m--> 321\u001B[1;33m             back_off, total_retry, self._logger, func, _noop_reset, *args, **kwargs)\n\u001B[0m\u001B[0;32m    322\u001B[0m \u001B[1;33m\u001B[0m\u001B[0m\n",
      "\u001B[1;32m~\\AppData\\Roaming\\Python\\Python36\\site-packages\\azureml\\_restclient\\clientbase.py\u001B[0m in \u001B[0;36m_execute_func_internal\u001B[1;34m(cls, back_off, total_retry, logger, func, reset_func, *args, **kwargs)\u001B[0m\n\u001B[0;32m    333\u001B[0m             \u001B[1;32mtry\u001B[0m\u001B[1;33m:\u001B[0m\u001B[1;33m\u001B[0m\u001B[1;33m\u001B[0m\u001B[0m\n\u001B[1;32m--> 334\u001B[1;33m                 \u001B[1;32mreturn\u001B[0m \u001B[0mfunc\u001B[0m\u001B[1;33m(\u001B[0m\u001B[1;33m*\u001B[0m\u001B[0margs\u001B[0m\u001B[1;33m,\u001B[0m \u001B[1;33m**\u001B[0m\u001B[0mkwargs\u001B[0m\u001B[1;33m)\u001B[0m\u001B[1;33m\u001B[0m\u001B[1;33m\u001B[0m\u001B[0m\n\u001B[0m\u001B[0;32m    335\u001B[0m             \u001B[1;32mexcept\u001B[0m \u001B[0mException\u001B[0m \u001B[1;32mas\u001B[0m \u001B[0merror\u001B[0m\u001B[1;33m:\u001B[0m\u001B[1;33m\u001B[0m\u001B[1;33m\u001B[0m\u001B[0m\n",
      "\u001B[1;32m~\\AppData\\Roaming\\Python\\Python36\\site-packages\\azureml\\_restclient\\operations\\run_operations.py\u001B[0m in \u001B[0;36mget_details\u001B[1;34m(self, subscription_id, resource_group_name, workspace_name, experiment_name, run_id, custom_headers, raw, **operation_config)\u001B[0m\n\u001B[0;32m    233\u001B[0m         \u001B[0mrequest\u001B[0m \u001B[1;33m=\u001B[0m \u001B[0mself\u001B[0m\u001B[1;33m.\u001B[0m\u001B[0m_client\u001B[0m\u001B[1;33m.\u001B[0m\u001B[0mget\u001B[0m\u001B[1;33m(\u001B[0m\u001B[0murl\u001B[0m\u001B[1;33m,\u001B[0m \u001B[0mquery_parameters\u001B[0m\u001B[1;33m)\u001B[0m\u001B[1;33m\u001B[0m\u001B[1;33m\u001B[0m\u001B[0m\n\u001B[1;32m--> 234\u001B[1;33m         \u001B[0mresponse\u001B[0m \u001B[1;33m=\u001B[0m \u001B[0mself\u001B[0m\u001B[1;33m.\u001B[0m\u001B[0m_client\u001B[0m\u001B[1;33m.\u001B[0m\u001B[0msend\u001B[0m\u001B[1;33m(\u001B[0m\u001B[0mrequest\u001B[0m\u001B[1;33m,\u001B[0m \u001B[0mheader_parameters\u001B[0m\u001B[1;33m,\u001B[0m \u001B[0mstream\u001B[0m\u001B[1;33m=\u001B[0m\u001B[1;32mFalse\u001B[0m\u001B[1;33m,\u001B[0m \u001B[1;33m**\u001B[0m\u001B[0moperation_config\u001B[0m\u001B[1;33m)\u001B[0m\u001B[1;33m\u001B[0m\u001B[1;33m\u001B[0m\u001B[0m\n\u001B[0m\u001B[0;32m    235\u001B[0m \u001B[1;33m\u001B[0m\u001B[0m\n",
      "\u001B[1;32mc:\\users\\janguy\\appdata\\local\\continuum\\miniconda3\\envs\\dlresearch\\lib\\site-packages\\msrest\\service_client.py\u001B[0m in \u001B[0;36msend\u001B[1;34m(self, request, headers, content, **kwargs)\u001B[0m\n\u001B[0;32m    335\u001B[0m         \u001B[1;32mtry\u001B[0m\u001B[1;33m:\u001B[0m\u001B[1;33m\u001B[0m\u001B[1;33m\u001B[0m\u001B[0m\n\u001B[1;32m--> 336\u001B[1;33m             \u001B[0mpipeline_response\u001B[0m \u001B[1;33m=\u001B[0m \u001B[0mself\u001B[0m\u001B[1;33m.\u001B[0m\u001B[0mconfig\u001B[0m\u001B[1;33m.\u001B[0m\u001B[0mpipeline\u001B[0m\u001B[1;33m.\u001B[0m\u001B[0mrun\u001B[0m\u001B[1;33m(\u001B[0m\u001B[0mrequest\u001B[0m\u001B[1;33m,\u001B[0m \u001B[1;33m**\u001B[0m\u001B[0mkwargs\u001B[0m\u001B[1;33m)\u001B[0m\u001B[1;33m\u001B[0m\u001B[1;33m\u001B[0m\u001B[0m\n\u001B[0m\u001B[0;32m    337\u001B[0m             \u001B[1;31m# There is too much thing that expects this method to return a \"requests.Response\"\u001B[0m\u001B[1;33m\u001B[0m\u001B[1;33m\u001B[0m\u001B[1;33m\u001B[0m\u001B[0m\n",
      "\u001B[1;32mc:\\users\\janguy\\appdata\\local\\continuum\\miniconda3\\envs\\dlresearch\\lib\\site-packages\\msrest\\pipeline\\__init__.py\u001B[0m in \u001B[0;36mrun\u001B[1;34m(self, request, **kwargs)\u001B[0m\n\u001B[0;32m    196\u001B[0m         \u001B[0mfirst_node\u001B[0m \u001B[1;33m=\u001B[0m \u001B[0mself\u001B[0m\u001B[1;33m.\u001B[0m\u001B[0m_impl_policies\u001B[0m\u001B[1;33m[\u001B[0m\u001B[1;36m0\u001B[0m\u001B[1;33m]\u001B[0m \u001B[1;32mif\u001B[0m \u001B[0mself\u001B[0m\u001B[1;33m.\u001B[0m\u001B[0m_impl_policies\u001B[0m \u001B[1;32melse\u001B[0m \u001B[0mself\u001B[0m\u001B[1;33m.\u001B[0m\u001B[0m_sender\u001B[0m\u001B[1;33m\u001B[0m\u001B[1;33m\u001B[0m\u001B[0m\n\u001B[1;32m--> 197\u001B[1;33m         \u001B[1;32mreturn\u001B[0m \u001B[0mfirst_node\u001B[0m\u001B[1;33m.\u001B[0m\u001B[0msend\u001B[0m\u001B[1;33m(\u001B[0m\u001B[0mpipeline_request\u001B[0m\u001B[1;33m,\u001B[0m \u001B[1;33m**\u001B[0m\u001B[0mkwargs\u001B[0m\u001B[1;33m)\u001B[0m  \u001B[1;31m# type: ignore\u001B[0m\u001B[1;33m\u001B[0m\u001B[1;33m\u001B[0m\u001B[0m\n\u001B[0m\u001B[0;32m    198\u001B[0m \u001B[1;33m\u001B[0m\u001B[0m\n",
      "\u001B[1;32mc:\\users\\janguy\\appdata\\local\\continuum\\miniconda3\\envs\\dlresearch\\lib\\site-packages\\msrest\\pipeline\\__init__.py\u001B[0m in \u001B[0;36msend\u001B[1;34m(self, request, **kwargs)\u001B[0m\n\u001B[0;32m    149\u001B[0m         \u001B[1;32mtry\u001B[0m\u001B[1;33m:\u001B[0m\u001B[1;33m\u001B[0m\u001B[1;33m\u001B[0m\u001B[0m\n\u001B[1;32m--> 150\u001B[1;33m             \u001B[0mresponse\u001B[0m \u001B[1;33m=\u001B[0m \u001B[0mself\u001B[0m\u001B[1;33m.\u001B[0m\u001B[0mnext\u001B[0m\u001B[1;33m.\u001B[0m\u001B[0msend\u001B[0m\u001B[1;33m(\u001B[0m\u001B[0mrequest\u001B[0m\u001B[1;33m,\u001B[0m \u001B[1;33m**\u001B[0m\u001B[0mkwargs\u001B[0m\u001B[1;33m)\u001B[0m\u001B[1;33m\u001B[0m\u001B[1;33m\u001B[0m\u001B[0m\n\u001B[0m\u001B[0;32m    151\u001B[0m         \u001B[1;32mexcept\u001B[0m \u001B[0mException\u001B[0m\u001B[1;33m:\u001B[0m\u001B[1;33m\u001B[0m\u001B[1;33m\u001B[0m\u001B[0m\n",
      "\u001B[1;32mc:\\users\\janguy\\appdata\\local\\continuum\\miniconda3\\envs\\dlresearch\\lib\\site-packages\\msrest\\pipeline\\requests.py\u001B[0m in \u001B[0;36msend\u001B[1;34m(self, request, **kwargs)\u001B[0m\n\u001B[0;32m     71\u001B[0m             \u001B[1;32mtry\u001B[0m\u001B[1;33m:\u001B[0m\u001B[1;33m\u001B[0m\u001B[1;33m\u001B[0m\u001B[0m\n\u001B[1;32m---> 72\u001B[1;33m                 \u001B[1;32mreturn\u001B[0m \u001B[0mself\u001B[0m\u001B[1;33m.\u001B[0m\u001B[0mnext\u001B[0m\u001B[1;33m.\u001B[0m\u001B[0msend\u001B[0m\u001B[1;33m(\u001B[0m\u001B[0mrequest\u001B[0m\u001B[1;33m,\u001B[0m \u001B[1;33m**\u001B[0m\u001B[0mkwargs\u001B[0m\u001B[1;33m)\u001B[0m\u001B[1;33m\u001B[0m\u001B[1;33m\u001B[0m\u001B[0m\n\u001B[0m\u001B[0;32m     73\u001B[0m             except (oauth2.rfc6749.errors.InvalidGrantError,\n",
      "\u001B[1;32mc:\\users\\janguy\\appdata\\local\\continuum\\miniconda3\\envs\\dlresearch\\lib\\site-packages\\msrest\\pipeline\\requests.py\u001B[0m in \u001B[0;36msend\u001B[1;34m(self, request, **kwargs)\u001B[0m\n\u001B[0;32m    136\u001B[0m         \u001B[1;32mtry\u001B[0m\u001B[1;33m:\u001B[0m\u001B[1;33m\u001B[0m\u001B[1;33m\u001B[0m\u001B[0m\n\u001B[1;32m--> 137\u001B[1;33m             \u001B[1;32mreturn\u001B[0m \u001B[0mself\u001B[0m\u001B[1;33m.\u001B[0m\u001B[0mnext\u001B[0m\u001B[1;33m.\u001B[0m\u001B[0msend\u001B[0m\u001B[1;33m(\u001B[0m\u001B[0mrequest\u001B[0m\u001B[1;33m,\u001B[0m \u001B[1;33m**\u001B[0m\u001B[0mkwargs\u001B[0m\u001B[1;33m)\u001B[0m\u001B[1;33m\u001B[0m\u001B[1;33m\u001B[0m\u001B[0m\n\u001B[0m\u001B[0;32m    138\u001B[0m         \u001B[1;32mfinally\u001B[0m\u001B[1;33m:\u001B[0m\u001B[1;33m\u001B[0m\u001B[1;33m\u001B[0m\u001B[0m\n",
      "\u001B[1;32mc:\\users\\janguy\\appdata\\local\\continuum\\miniconda3\\envs\\dlresearch\\lib\\site-packages\\msrest\\pipeline\\__init__.py\u001B[0m in \u001B[0;36msend\u001B[1;34m(self, request, **kwargs)\u001B[0m\n\u001B[0;32m    149\u001B[0m         \u001B[1;32mtry\u001B[0m\u001B[1;33m:\u001B[0m\u001B[1;33m\u001B[0m\u001B[1;33m\u001B[0m\u001B[0m\n\u001B[1;32m--> 150\u001B[1;33m             \u001B[0mresponse\u001B[0m \u001B[1;33m=\u001B[0m \u001B[0mself\u001B[0m\u001B[1;33m.\u001B[0m\u001B[0mnext\u001B[0m\u001B[1;33m.\u001B[0m\u001B[0msend\u001B[0m\u001B[1;33m(\u001B[0m\u001B[0mrequest\u001B[0m\u001B[1;33m,\u001B[0m \u001B[1;33m**\u001B[0m\u001B[0mkwargs\u001B[0m\u001B[1;33m)\u001B[0m\u001B[1;33m\u001B[0m\u001B[1;33m\u001B[0m\u001B[0m\n\u001B[0m\u001B[0;32m    151\u001B[0m         \u001B[1;32mexcept\u001B[0m \u001B[0mException\u001B[0m\u001B[1;33m:\u001B[0m\u001B[1;33m\u001B[0m\u001B[1;33m\u001B[0m\u001B[0m\n",
      "\u001B[1;32mc:\\users\\janguy\\appdata\\local\\continuum\\miniconda3\\envs\\dlresearch\\lib\\site-packages\\msrest\\pipeline\\requests.py\u001B[0m in \u001B[0;36msend\u001B[1;34m(self, request, **kwargs)\u001B[0m\n\u001B[0;32m    192\u001B[0m             \u001B[0mrequest\u001B[0m\u001B[1;33m,\u001B[0m\u001B[1;33m\u001B[0m\u001B[1;33m\u001B[0m\u001B[0m\n\u001B[1;32m--> 193\u001B[1;33m             \u001B[0mself\u001B[0m\u001B[1;33m.\u001B[0m\u001B[0mdriver\u001B[0m\u001B[1;33m.\u001B[0m\u001B[0msend\u001B[0m\u001B[1;33m(\u001B[0m\u001B[0mrequest\u001B[0m\u001B[1;33m.\u001B[0m\u001B[0mhttp_request\u001B[0m\u001B[1;33m,\u001B[0m \u001B[1;33m**\u001B[0m\u001B[0mkwargs\u001B[0m\u001B[1;33m)\u001B[0m\u001B[1;33m\u001B[0m\u001B[1;33m\u001B[0m\u001B[0m\n\u001B[0m\u001B[0;32m    194\u001B[0m         )\n",
      "\u001B[1;32mc:\\users\\janguy\\appdata\\local\\continuum\\miniconda3\\envs\\dlresearch\\lib\\site-packages\\msrest\\universal_http\\requests.py\u001B[0m in \u001B[0;36msend\u001B[1;34m(self, request, **kwargs)\u001B[0m\n\u001B[0;32m    332\u001B[0m         \u001B[0mrequests_kwargs\u001B[0m \u001B[1;33m=\u001B[0m \u001B[0mself\u001B[0m\u001B[1;33m.\u001B[0m\u001B[0m_configure_send\u001B[0m\u001B[1;33m(\u001B[0m\u001B[0mrequest\u001B[0m\u001B[1;33m,\u001B[0m \u001B[1;33m**\u001B[0m\u001B[0mkwargs\u001B[0m\u001B[1;33m)\u001B[0m\u001B[1;33m\u001B[0m\u001B[1;33m\u001B[0m\u001B[0m\n\u001B[1;32m--> 333\u001B[1;33m         \u001B[1;32mreturn\u001B[0m \u001B[0msuper\u001B[0m\u001B[1;33m(\u001B[0m\u001B[0mRequestsHTTPSender\u001B[0m\u001B[1;33m,\u001B[0m \u001B[0mself\u001B[0m\u001B[1;33m)\u001B[0m\u001B[1;33m.\u001B[0m\u001B[0msend\u001B[0m\u001B[1;33m(\u001B[0m\u001B[0mrequest\u001B[0m\u001B[1;33m,\u001B[0m \u001B[1;33m**\u001B[0m\u001B[0mrequests_kwargs\u001B[0m\u001B[1;33m)\u001B[0m\u001B[1;33m\u001B[0m\u001B[1;33m\u001B[0m\u001B[0m\n\u001B[0m\u001B[0;32m    334\u001B[0m \u001B[1;33m\u001B[0m\u001B[0m\n",
      "\u001B[1;32mc:\\users\\janguy\\appdata\\local\\continuum\\miniconda3\\envs\\dlresearch\\lib\\site-packages\\msrest\\universal_http\\requests.py\u001B[0m in \u001B[0;36msend\u001B[1;34m(self, request, **kwargs)\u001B[0m\n\u001B[0;32m    141\u001B[0m                 \u001B[0mrequest\u001B[0m\u001B[1;33m.\u001B[0m\u001B[0murl\u001B[0m\u001B[1;33m,\u001B[0m\u001B[1;33m\u001B[0m\u001B[1;33m\u001B[0m\u001B[0m\n\u001B[1;32m--> 142\u001B[1;33m                 **kwargs)\n\u001B[0m\u001B[0;32m    143\u001B[0m         \u001B[1;32mexcept\u001B[0m \u001B[0mrequests\u001B[0m\u001B[1;33m.\u001B[0m\u001B[0mRequestException\u001B[0m \u001B[1;32mas\u001B[0m \u001B[0merr\u001B[0m\u001B[1;33m:\u001B[0m\u001B[1;33m\u001B[0m\u001B[1;33m\u001B[0m\u001B[0m\n",
      "\u001B[1;32mc:\\users\\janguy\\appdata\\local\\continuum\\miniconda3\\envs\\dlresearch\\lib\\site-packages\\requests\\sessions.py\u001B[0m in \u001B[0;36mrequest\u001B[1;34m(self, method, url, params, data, headers, cookies, files, auth, timeout, allow_redirects, proxies, hooks, stream, verify, cert, json)\u001B[0m\n\u001B[0;32m    529\u001B[0m         \u001B[0msend_kwargs\u001B[0m\u001B[1;33m.\u001B[0m\u001B[0mupdate\u001B[0m\u001B[1;33m(\u001B[0m\u001B[0msettings\u001B[0m\u001B[1;33m)\u001B[0m\u001B[1;33m\u001B[0m\u001B[1;33m\u001B[0m\u001B[0m\n\u001B[1;32m--> 530\u001B[1;33m         \u001B[0mresp\u001B[0m \u001B[1;33m=\u001B[0m \u001B[0mself\u001B[0m\u001B[1;33m.\u001B[0m\u001B[0msend\u001B[0m\u001B[1;33m(\u001B[0m\u001B[0mprep\u001B[0m\u001B[1;33m,\u001B[0m \u001B[1;33m**\u001B[0m\u001B[0msend_kwargs\u001B[0m\u001B[1;33m)\u001B[0m\u001B[1;33m\u001B[0m\u001B[1;33m\u001B[0m\u001B[0m\n\u001B[0m\u001B[0;32m    531\u001B[0m \u001B[1;33m\u001B[0m\u001B[0m\n",
      "\u001B[1;32mc:\\users\\janguy\\appdata\\local\\continuum\\miniconda3\\envs\\dlresearch\\lib\\site-packages\\requests\\sessions.py\u001B[0m in \u001B[0;36msend\u001B[1;34m(self, request, **kwargs)\u001B[0m\n\u001B[0;32m    642\u001B[0m         \u001B[1;31m# Send the request\u001B[0m\u001B[1;33m\u001B[0m\u001B[1;33m\u001B[0m\u001B[1;33m\u001B[0m\u001B[0m\n\u001B[1;32m--> 643\u001B[1;33m         \u001B[0mr\u001B[0m \u001B[1;33m=\u001B[0m \u001B[0madapter\u001B[0m\u001B[1;33m.\u001B[0m\u001B[0msend\u001B[0m\u001B[1;33m(\u001B[0m\u001B[0mrequest\u001B[0m\u001B[1;33m,\u001B[0m \u001B[1;33m**\u001B[0m\u001B[0mkwargs\u001B[0m\u001B[1;33m)\u001B[0m\u001B[1;33m\u001B[0m\u001B[1;33m\u001B[0m\u001B[0m\n\u001B[0m\u001B[0;32m    644\u001B[0m \u001B[1;33m\u001B[0m\u001B[0m\n",
      "\u001B[1;32mc:\\users\\janguy\\appdata\\local\\continuum\\miniconda3\\envs\\dlresearch\\lib\\site-packages\\requests\\adapters.py\u001B[0m in \u001B[0;36msend\u001B[1;34m(self, request, stream, timeout, verify, cert, proxies)\u001B[0m\n\u001B[0;32m    448\u001B[0m                     \u001B[0mretries\u001B[0m\u001B[1;33m=\u001B[0m\u001B[0mself\u001B[0m\u001B[1;33m.\u001B[0m\u001B[0mmax_retries\u001B[0m\u001B[1;33m,\u001B[0m\u001B[1;33m\u001B[0m\u001B[1;33m\u001B[0m\u001B[0m\n\u001B[1;32m--> 449\u001B[1;33m                     \u001B[0mtimeout\u001B[0m\u001B[1;33m=\u001B[0m\u001B[0mtimeout\u001B[0m\u001B[1;33m\u001B[0m\u001B[1;33m\u001B[0m\u001B[0m\n\u001B[0m\u001B[0;32m    450\u001B[0m                 )\n",
      "\u001B[1;32mc:\\users\\janguy\\appdata\\local\\continuum\\miniconda3\\envs\\dlresearch\\lib\\site-packages\\urllib3\\connectionpool.py\u001B[0m in \u001B[0;36murlopen\u001B[1;34m(self, method, url, body, headers, retries, redirect, assert_same_host, timeout, pool_timeout, release_conn, chunked, body_pos, **response_kw)\u001B[0m\n\u001B[0;32m    671\u001B[0m                 \u001B[0mheaders\u001B[0m\u001B[1;33m=\u001B[0m\u001B[0mheaders\u001B[0m\u001B[1;33m,\u001B[0m\u001B[1;33m\u001B[0m\u001B[1;33m\u001B[0m\u001B[0m\n\u001B[1;32m--> 672\u001B[1;33m                 \u001B[0mchunked\u001B[0m\u001B[1;33m=\u001B[0m\u001B[0mchunked\u001B[0m\u001B[1;33m,\u001B[0m\u001B[1;33m\u001B[0m\u001B[1;33m\u001B[0m\u001B[0m\n\u001B[0m\u001B[0;32m    673\u001B[0m             )\n",
      "\u001B[1;32mc:\\users\\janguy\\appdata\\local\\continuum\\miniconda3\\envs\\dlresearch\\lib\\site-packages\\urllib3\\connectionpool.py\u001B[0m in \u001B[0;36m_make_request\u001B[1;34m(self, conn, method, url, timeout, chunked, **httplib_request_kw)\u001B[0m\n\u001B[0;32m    420\u001B[0m                     \u001B[1;31m# Otherwise it looks like a bug in the code.\u001B[0m\u001B[1;33m\u001B[0m\u001B[1;33m\u001B[0m\u001B[1;33m\u001B[0m\u001B[0m\n\u001B[1;32m--> 421\u001B[1;33m                     \u001B[0msix\u001B[0m\u001B[1;33m.\u001B[0m\u001B[0mraise_from\u001B[0m\u001B[1;33m(\u001B[0m\u001B[0me\u001B[0m\u001B[1;33m,\u001B[0m \u001B[1;32mNone\u001B[0m\u001B[1;33m)\u001B[0m\u001B[1;33m\u001B[0m\u001B[1;33m\u001B[0m\u001B[0m\n\u001B[0m\u001B[0;32m    422\u001B[0m         \u001B[1;32mexcept\u001B[0m \u001B[1;33m(\u001B[0m\u001B[0mSocketTimeout\u001B[0m\u001B[1;33m,\u001B[0m \u001B[0mBaseSSLError\u001B[0m\u001B[1;33m,\u001B[0m \u001B[0mSocketError\u001B[0m\u001B[1;33m)\u001B[0m \u001B[1;32mas\u001B[0m \u001B[0me\u001B[0m\u001B[1;33m:\u001B[0m\u001B[1;33m\u001B[0m\u001B[1;33m\u001B[0m\u001B[0m\n",
      "\u001B[1;32mc:\\users\\janguy\\appdata\\local\\continuum\\miniconda3\\envs\\dlresearch\\lib\\site-packages\\urllib3\\packages\\six.py\u001B[0m in \u001B[0;36mraise_from\u001B[1;34m(value, from_value)\u001B[0m\n",
      "\u001B[1;32mc:\\users\\janguy\\appdata\\local\\continuum\\miniconda3\\envs\\dlresearch\\lib\\site-packages\\urllib3\\connectionpool.py\u001B[0m in \u001B[0;36m_make_request\u001B[1;34m(self, conn, method, url, timeout, chunked, **httplib_request_kw)\u001B[0m\n\u001B[0;32m    415\u001B[0m                 \u001B[1;32mtry\u001B[0m\u001B[1;33m:\u001B[0m\u001B[1;33m\u001B[0m\u001B[1;33m\u001B[0m\u001B[0m\n\u001B[1;32m--> 416\u001B[1;33m                     \u001B[0mhttplib_response\u001B[0m \u001B[1;33m=\u001B[0m \u001B[0mconn\u001B[0m\u001B[1;33m.\u001B[0m\u001B[0mgetresponse\u001B[0m\u001B[1;33m(\u001B[0m\u001B[1;33m)\u001B[0m\u001B[1;33m\u001B[0m\u001B[1;33m\u001B[0m\u001B[0m\n\u001B[0m\u001B[0;32m    417\u001B[0m                 \u001B[1;32mexcept\u001B[0m \u001B[0mBaseException\u001B[0m \u001B[1;32mas\u001B[0m \u001B[0me\u001B[0m\u001B[1;33m:\u001B[0m\u001B[1;33m\u001B[0m\u001B[1;33m\u001B[0m\u001B[0m\n",
      "\u001B[1;32mc:\\users\\janguy\\appdata\\local\\continuum\\miniconda3\\envs\\dlresearch\\lib\\http\\client.py\u001B[0m in \u001B[0;36mgetresponse\u001B[1;34m(self)\u001B[0m\n\u001B[0;32m   1345\u001B[0m             \u001B[1;32mtry\u001B[0m\u001B[1;33m:\u001B[0m\u001B[1;33m\u001B[0m\u001B[1;33m\u001B[0m\u001B[0m\n\u001B[1;32m-> 1346\u001B[1;33m                 \u001B[0mresponse\u001B[0m\u001B[1;33m.\u001B[0m\u001B[0mbegin\u001B[0m\u001B[1;33m(\u001B[0m\u001B[1;33m)\u001B[0m\u001B[1;33m\u001B[0m\u001B[1;33m\u001B[0m\u001B[0m\n\u001B[0m\u001B[0;32m   1347\u001B[0m             \u001B[1;32mexcept\u001B[0m \u001B[0mConnectionError\u001B[0m\u001B[1;33m:\u001B[0m\u001B[1;33m\u001B[0m\u001B[1;33m\u001B[0m\u001B[0m\n",
      "\u001B[1;32mc:\\users\\janguy\\appdata\\local\\continuum\\miniconda3\\envs\\dlresearch\\lib\\http\\client.py\u001B[0m in \u001B[0;36mbegin\u001B[1;34m(self)\u001B[0m\n\u001B[0;32m    306\u001B[0m         \u001B[1;32mwhile\u001B[0m \u001B[1;32mTrue\u001B[0m\u001B[1;33m:\u001B[0m\u001B[1;33m\u001B[0m\u001B[1;33m\u001B[0m\u001B[0m\n\u001B[1;32m--> 307\u001B[1;33m             \u001B[0mversion\u001B[0m\u001B[1;33m,\u001B[0m \u001B[0mstatus\u001B[0m\u001B[1;33m,\u001B[0m \u001B[0mreason\u001B[0m \u001B[1;33m=\u001B[0m \u001B[0mself\u001B[0m\u001B[1;33m.\u001B[0m\u001B[0m_read_status\u001B[0m\u001B[1;33m(\u001B[0m\u001B[1;33m)\u001B[0m\u001B[1;33m\u001B[0m\u001B[1;33m\u001B[0m\u001B[0m\n\u001B[0m\u001B[0;32m    308\u001B[0m             \u001B[1;32mif\u001B[0m \u001B[0mstatus\u001B[0m \u001B[1;33m!=\u001B[0m \u001B[0mCONTINUE\u001B[0m\u001B[1;33m:\u001B[0m\u001B[1;33m\u001B[0m\u001B[1;33m\u001B[0m\u001B[0m\n",
      "\u001B[1;32mc:\\users\\janguy\\appdata\\local\\continuum\\miniconda3\\envs\\dlresearch\\lib\\http\\client.py\u001B[0m in \u001B[0;36m_read_status\u001B[1;34m(self)\u001B[0m\n\u001B[0;32m    267\u001B[0m     \u001B[1;32mdef\u001B[0m \u001B[0m_read_status\u001B[0m\u001B[1;33m(\u001B[0m\u001B[0mself\u001B[0m\u001B[1;33m)\u001B[0m\u001B[1;33m:\u001B[0m\u001B[1;33m\u001B[0m\u001B[1;33m\u001B[0m\u001B[0m\n\u001B[1;32m--> 268\u001B[1;33m         \u001B[0mline\u001B[0m \u001B[1;33m=\u001B[0m \u001B[0mstr\u001B[0m\u001B[1;33m(\u001B[0m\u001B[0mself\u001B[0m\u001B[1;33m.\u001B[0m\u001B[0mfp\u001B[0m\u001B[1;33m.\u001B[0m\u001B[0mreadline\u001B[0m\u001B[1;33m(\u001B[0m\u001B[0m_MAXLINE\u001B[0m \u001B[1;33m+\u001B[0m \u001B[1;36m1\u001B[0m\u001B[1;33m)\u001B[0m\u001B[1;33m,\u001B[0m \u001B[1;34m\"iso-8859-1\"\u001B[0m\u001B[1;33m)\u001B[0m\u001B[1;33m\u001B[0m\u001B[1;33m\u001B[0m\u001B[0m\n\u001B[0m\u001B[0;32m    269\u001B[0m         \u001B[1;32mif\u001B[0m \u001B[0mlen\u001B[0m\u001B[1;33m(\u001B[0m\u001B[0mline\u001B[0m\u001B[1;33m)\u001B[0m \u001B[1;33m>\u001B[0m \u001B[0m_MAXLINE\u001B[0m\u001B[1;33m:\u001B[0m\u001B[1;33m\u001B[0m\u001B[1;33m\u001B[0m\u001B[0m\n",
      "\u001B[1;32mc:\\users\\janguy\\appdata\\local\\continuum\\miniconda3\\envs\\dlresearch\\lib\\socket.py\u001B[0m in \u001B[0;36mreadinto\u001B[1;34m(self, b)\u001B[0m\n\u001B[0;32m    585\u001B[0m             \u001B[1;32mtry\u001B[0m\u001B[1;33m:\u001B[0m\u001B[1;33m\u001B[0m\u001B[1;33m\u001B[0m\u001B[0m\n\u001B[1;32m--> 586\u001B[1;33m                 \u001B[1;32mreturn\u001B[0m \u001B[0mself\u001B[0m\u001B[1;33m.\u001B[0m\u001B[0m_sock\u001B[0m\u001B[1;33m.\u001B[0m\u001B[0mrecv_into\u001B[0m\u001B[1;33m(\u001B[0m\u001B[0mb\u001B[0m\u001B[1;33m)\u001B[0m\u001B[1;33m\u001B[0m\u001B[1;33m\u001B[0m\u001B[0m\n\u001B[0m\u001B[0;32m    587\u001B[0m             \u001B[1;32mexcept\u001B[0m \u001B[0mtimeout\u001B[0m\u001B[1;33m:\u001B[0m\u001B[1;33m\u001B[0m\u001B[1;33m\u001B[0m\u001B[0m\n",
      "\u001B[1;32mc:\\users\\janguy\\appdata\\local\\continuum\\miniconda3\\envs\\dlresearch\\lib\\site-packages\\urllib3\\contrib\\pyopenssl.py\u001B[0m in \u001B[0;36mrecv_into\u001B[1;34m(self, *args, **kwargs)\u001B[0m\n\u001B[0;32m    324\u001B[0m         \u001B[1;32mexcept\u001B[0m \u001B[0mOpenSSL\u001B[0m\u001B[1;33m.\u001B[0m\u001B[0mSSL\u001B[0m\u001B[1;33m.\u001B[0m\u001B[0mWantReadError\u001B[0m\u001B[1;33m:\u001B[0m\u001B[1;33m\u001B[0m\u001B[1;33m\u001B[0m\u001B[0m\n\u001B[1;32m--> 325\u001B[1;33m             \u001B[1;32mif\u001B[0m \u001B[1;32mnot\u001B[0m \u001B[0mutil\u001B[0m\u001B[1;33m.\u001B[0m\u001B[0mwait_for_read\u001B[0m\u001B[1;33m(\u001B[0m\u001B[0mself\u001B[0m\u001B[1;33m.\u001B[0m\u001B[0msocket\u001B[0m\u001B[1;33m,\u001B[0m \u001B[0mself\u001B[0m\u001B[1;33m.\u001B[0m\u001B[0msocket\u001B[0m\u001B[1;33m.\u001B[0m\u001B[0mgettimeout\u001B[0m\u001B[1;33m(\u001B[0m\u001B[1;33m)\u001B[0m\u001B[1;33m)\u001B[0m\u001B[1;33m:\u001B[0m\u001B[1;33m\u001B[0m\u001B[1;33m\u001B[0m\u001B[0m\n\u001B[0m\u001B[0;32m    326\u001B[0m                 \u001B[1;32mraise\u001B[0m \u001B[0mtimeout\u001B[0m\u001B[1;33m(\u001B[0m\u001B[1;34m\"The read operation timed out\"\u001B[0m\u001B[1;33m)\u001B[0m\u001B[1;33m\u001B[0m\u001B[1;33m\u001B[0m\u001B[0m\n",
      "\u001B[1;32mc:\\users\\janguy\\appdata\\local\\continuum\\miniconda3\\envs\\dlresearch\\lib\\site-packages\\urllib3\\util\\wait.py\u001B[0m in \u001B[0;36mwait_for_read\u001B[1;34m(sock, timeout)\u001B[0m\n\u001B[0;32m    145\u001B[0m     \"\"\"\n\u001B[1;32m--> 146\u001B[1;33m     \u001B[1;32mreturn\u001B[0m \u001B[0mwait_for_socket\u001B[0m\u001B[1;33m(\u001B[0m\u001B[0msock\u001B[0m\u001B[1;33m,\u001B[0m \u001B[0mread\u001B[0m\u001B[1;33m=\u001B[0m\u001B[1;32mTrue\u001B[0m\u001B[1;33m,\u001B[0m \u001B[0mtimeout\u001B[0m\u001B[1;33m=\u001B[0m\u001B[0mtimeout\u001B[0m\u001B[1;33m)\u001B[0m\u001B[1;33m\u001B[0m\u001B[1;33m\u001B[0m\u001B[0m\n\u001B[0m\u001B[0;32m    147\u001B[0m \u001B[1;33m\u001B[0m\u001B[0m\n",
      "\u001B[1;32mc:\\users\\janguy\\appdata\\local\\continuum\\miniconda3\\envs\\dlresearch\\lib\\site-packages\\urllib3\\util\\wait.py\u001B[0m in \u001B[0;36mselect_wait_for_socket\u001B[1;34m(sock, read, write, timeout)\u001B[0m\n\u001B[0;32m     85\u001B[0m     \u001B[0mfn\u001B[0m \u001B[1;33m=\u001B[0m \u001B[0mpartial\u001B[0m\u001B[1;33m(\u001B[0m\u001B[0mselect\u001B[0m\u001B[1;33m.\u001B[0m\u001B[0mselect\u001B[0m\u001B[1;33m,\u001B[0m \u001B[0mrcheck\u001B[0m\u001B[1;33m,\u001B[0m \u001B[0mwcheck\u001B[0m\u001B[1;33m,\u001B[0m \u001B[0mwcheck\u001B[0m\u001B[1;33m)\u001B[0m\u001B[1;33m\u001B[0m\u001B[1;33m\u001B[0m\u001B[0m\n\u001B[1;32m---> 86\u001B[1;33m     \u001B[0mrready\u001B[0m\u001B[1;33m,\u001B[0m \u001B[0mwready\u001B[0m\u001B[1;33m,\u001B[0m \u001B[0mxready\u001B[0m \u001B[1;33m=\u001B[0m \u001B[0m_retry_on_intr\u001B[0m\u001B[1;33m(\u001B[0m\u001B[0mfn\u001B[0m\u001B[1;33m,\u001B[0m \u001B[0mtimeout\u001B[0m\u001B[1;33m)\u001B[0m\u001B[1;33m\u001B[0m\u001B[1;33m\u001B[0m\u001B[0m\n\u001B[0m\u001B[0;32m     87\u001B[0m     \u001B[1;32mreturn\u001B[0m \u001B[0mbool\u001B[0m\u001B[1;33m(\u001B[0m\u001B[0mrready\u001B[0m \u001B[1;32mor\u001B[0m \u001B[0mwready\u001B[0m \u001B[1;32mor\u001B[0m \u001B[0mxready\u001B[0m\u001B[1;33m)\u001B[0m\u001B[1;33m\u001B[0m\u001B[1;33m\u001B[0m\u001B[0m\n",
      "\u001B[1;32mc:\\users\\janguy\\appdata\\local\\continuum\\miniconda3\\envs\\dlresearch\\lib\\site-packages\\urllib3\\util\\wait.py\u001B[0m in \u001B[0;36m_retry_on_intr\u001B[1;34m(fn, timeout)\u001B[0m\n\u001B[0;32m     42\u001B[0m     \u001B[1;32mdef\u001B[0m \u001B[0m_retry_on_intr\u001B[0m\u001B[1;33m(\u001B[0m\u001B[0mfn\u001B[0m\u001B[1;33m,\u001B[0m \u001B[0mtimeout\u001B[0m\u001B[1;33m)\u001B[0m\u001B[1;33m:\u001B[0m\u001B[1;33m\u001B[0m\u001B[1;33m\u001B[0m\u001B[0m\n\u001B[1;32m---> 43\u001B[1;33m         \u001B[1;32mreturn\u001B[0m \u001B[0mfn\u001B[0m\u001B[1;33m(\u001B[0m\u001B[0mtimeout\u001B[0m\u001B[1;33m)\u001B[0m\u001B[1;33m\u001B[0m\u001B[1;33m\u001B[0m\u001B[0m\n\u001B[0m\u001B[0;32m     44\u001B[0m \u001B[1;33m\u001B[0m\u001B[0m\n",
      "\u001B[1;31mKeyboardInterrupt\u001B[0m: ",
      "\nDuring handling of the above exception, another exception occurred:\n",
      "\u001B[1;31mExperimentExecutionException\u001B[0m              Traceback (most recent call last)",
      "\u001B[1;32m<ipython-input-21-04685269429d>\u001B[0m in \u001B[0;36m<module>\u001B[1;34m\u001B[0m\n\u001B[1;32m----> 1\u001B[1;33m \u001B[0mpipeline_run\u001B[0m\u001B[1;33m.\u001B[0m\u001B[0mwait_for_completion\u001B[0m\u001B[1;33m(\u001B[0m\u001B[0mshow_output\u001B[0m\u001B[1;33m=\u001B[0m\u001B[1;32mTrue\u001B[0m\u001B[1;33m)\u001B[0m\u001B[1;33m\u001B[0m\u001B[1;33m\u001B[0m\u001B[0m\n\u001B[0m",
      "\u001B[1;32m~\\AppData\\Roaming\\Python\\Python36\\site-packages\\azureml\\pipeline\\core\\run.py\u001B[0m in \u001B[0;36mwait_for_completion\u001B[1;34m(self, show_output, timeout_seconds, raise_on_error)\u001B[0m\n\u001B[0;32m    293\u001B[0m                             \u001B[1;32mtry\u001B[0m\u001B[1;33m:\u001B[0m\u001B[1;33m\u001B[0m\u001B[1;33m\u001B[0m\u001B[0m\n\u001B[0;32m    294\u001B[0m                                 step_run.wait_for_completion(timeout_seconds=timeout_seconds - time_elapsed,\n\u001B[1;32m--> 295\u001B[1;33m                                                              raise_on_error=raise_on_error)\n\u001B[0m\u001B[0;32m    296\u001B[0m                             \u001B[1;32mexcept\u001B[0m \u001B[0mTypeError\u001B[0m \u001B[1;32mas\u001B[0m \u001B[0me\u001B[0m\u001B[1;33m:\u001B[0m\u001B[1;33m\u001B[0m\u001B[1;33m\u001B[0m\u001B[0m\n\u001B[0;32m    297\u001B[0m                                 \u001B[1;31m# If there are package conflicts in the user's environment, the run rehydration\u001B[0m\u001B[1;33m\u001B[0m\u001B[1;33m\u001B[0m\u001B[1;33m\u001B[0m\u001B[0m\n",
      "\u001B[1;32m~\\AppData\\Roaming\\Python\\Python36\\site-packages\\azureml\\pipeline\\core\\run.py\u001B[0m in \u001B[0;36mwait_for_completion\u001B[1;34m(self, show_output, timeout_seconds, raise_on_error)\u001B[0m\n\u001B[0;32m    742\u001B[0m                                 \u001B[1;34m\"https://aka.ms/aml-docs-cancel-run\"\u001B[0m\u001B[1;33m\u001B[0m\u001B[1;33m\u001B[0m\u001B[0m\n\u001B[0;32m    743\u001B[0m \u001B[1;33m\u001B[0m\u001B[0m\n\u001B[1;32m--> 744\u001B[1;33m                 \u001B[1;32mraise\u001B[0m \u001B[0mExperimentExecutionException\u001B[0m\u001B[1;33m(\u001B[0m\u001B[0merror_message\u001B[0m\u001B[1;33m)\u001B[0m\u001B[1;33m\u001B[0m\u001B[1;33m\u001B[0m\u001B[0m\n\u001B[0m\u001B[0;32m    745\u001B[0m         \u001B[1;32melse\u001B[0m\u001B[1;33m:\u001B[0m\u001B[1;33m\u001B[0m\u001B[1;33m\u001B[0m\u001B[0m\n\u001B[0;32m    746\u001B[0m             \u001B[0mstatus\u001B[0m \u001B[1;33m=\u001B[0m \u001B[0mself\u001B[0m\u001B[1;33m.\u001B[0m\u001B[0mget_status\u001B[0m\u001B[1;33m(\u001B[0m\u001B[1;33m)\u001B[0m\u001B[1;33m\u001B[0m\u001B[1;33m\u001B[0m\u001B[0m\n",
      "\u001B[1;31mExperimentExecutionException\u001B[0m: ExperimentExecutionException:\n\tMessage: The output streaming for the run interrupted.\nBut the run is still executing on the compute target. \nDetails for canceling the run can be found here: https://aka.ms/aml-docs-cancel-run\n\tInnerException None\n\tErrorResponse \n{\n    \"error\": {\n        \"message\": \"The output streaming for the run interrupted.\\nBut the run is still executing on the compute target. \\nDetails for canceling the run can be found here: https://aka.ms/aml-docs-cancel-run\"\n    }\n}"
     ]
    }
   ],
   "source": [
    "pipeline_run.wait_for_completion(show_output=True)"
   ]
  },
  {
   "cell_type": "markdown",
   "metadata": {},
   "source": [
    "### Resubmit a with different dataset\n",
    "Since we made the input a `PipelineParameter`, we can resubmit with a different dataset without having to create an entirely new experiment. We'll use the same datastore but use only a single image."
   ]
  },
  {
   "cell_type": "code",
   "execution_count": null,
   "metadata": {},
   "outputs": [],
   "source": [
    "# path_on_datastore = mnist_data.path('mnist')\n",
    "# single_image_ds = Dataset.File.from_files(path=path_on_datastore, validate=False)"
   ]
  },
  {
   "cell_type": "code",
   "execution_count": null,
   "metadata": {},
   "outputs": [],
   "source": [
    "# pipeline_run_2 = experiment.submit(pipeline, \n",
    "#                                    pipeline_parameters={\"mnist_param\": single_image_ds, \n",
    "#                                                         \"batch_size_param\": \"1\",\n",
    "#                                                         \"process_count_param\": 1}\n",
    "# )"
   ]
  },
  {
   "cell_type": "code",
   "execution_count": null,
   "metadata": {},
   "outputs": [],
   "source": [
    "# pipeline_run_2.wait_for_completion(show_output=True)"
   ]
  }
 ],
 "metadata": {
  "kernelspec": {
   "display_name": "Python 3",
   "language": "python",
   "name": "python3"
  },
  "language_info": {
   "codemirror_mode": {
    "name": "ipython",
    "version": 3
   },
   "file_extension": ".py",
   "mimetype": "text/x-python",
   "name": "python",
   "nbconvert_exporter": "python",
   "pygments_lexer": "ipython3",
   "version": "3.6.9"
  }
 },
 "nbformat": 4,
 "nbformat_minor": 1
}